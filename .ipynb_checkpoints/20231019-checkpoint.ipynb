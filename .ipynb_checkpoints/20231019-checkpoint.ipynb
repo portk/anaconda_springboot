{
 "cells": [
  {
   "cell_type": "code",
   "execution_count": 1,
   "id": "f0bc9c88-2f63-40f7-91ef-6a3c665e134b",
   "metadata": {},
   "outputs": [],
   "source": [
    "import numpy as np"
   ]
  },
  {
   "cell_type": "code",
   "execution_count": 3,
   "id": "fbb22a1e-5769-480b-a7b5-d1499e5dfbf0",
   "metadata": {
    "scrolled": true
   },
   "outputs": [
    {
     "data": {
      "text/plain": [
       "['ALLOW_THREADS',\n",
       " 'BUFSIZE',\n",
       " 'CLIP',\n",
       " 'DataSource',\n",
       " 'ERR_CALL',\n",
       " 'ERR_DEFAULT',\n",
       " 'ERR_IGNORE',\n",
       " 'ERR_LOG',\n",
       " 'ERR_PRINT',\n",
       " 'ERR_RAISE',\n",
       " 'ERR_WARN',\n",
       " 'FLOATING_POINT_SUPPORT',\n",
       " 'FPE_DIVIDEBYZERO',\n",
       " 'FPE_INVALID',\n",
       " 'FPE_OVERFLOW',\n",
       " 'FPE_UNDERFLOW',\n",
       " 'False_',\n",
       " 'Inf',\n",
       " 'Infinity',\n",
       " 'MAXDIMS',\n",
       " 'MAY_SHARE_BOUNDS',\n",
       " 'MAY_SHARE_EXACT',\n",
       " 'NAN',\n",
       " 'NINF',\n",
       " 'NZERO',\n",
       " 'NaN',\n",
       " 'PINF',\n",
       " 'PZERO',\n",
       " 'RAISE',\n",
       " 'RankWarning',\n",
       " 'SHIFT_DIVIDEBYZERO',\n",
       " 'SHIFT_INVALID',\n",
       " 'SHIFT_OVERFLOW',\n",
       " 'SHIFT_UNDERFLOW',\n",
       " 'ScalarType',\n",
       " 'True_',\n",
       " 'UFUNC_BUFSIZE_DEFAULT',\n",
       " 'UFUNC_PYVALS_NAME',\n",
       " 'WRAP',\n",
       " '_CopyMode',\n",
       " '_NoValue',\n",
       " '_UFUNC_API',\n",
       " '__NUMPY_SETUP__',\n",
       " '__all__',\n",
       " '__builtins__',\n",
       " '__cached__',\n",
       " '__config__',\n",
       " '__deprecated_attrs__',\n",
       " '__dir__',\n",
       " '__doc__',\n",
       " '__expired_functions__',\n",
       " '__file__',\n",
       " '__former_attrs__',\n",
       " '__future_scalars__',\n",
       " '__getattr__',\n",
       " '__git_version__',\n",
       " '__loader__',\n",
       " '__name__',\n",
       " '__package__',\n",
       " '__path__',\n",
       " '__spec__',\n",
       " '__version__',\n",
       " '_add_newdoc_ufunc',\n",
       " '_builtins',\n",
       " '_distributor_init',\n",
       " '_financial_names',\n",
       " '_get_promotion_state',\n",
       " '_globals',\n",
       " '_int_extended_msg',\n",
       " '_mat',\n",
       " '_no_nep50_warning',\n",
       " '_pyinstaller_hooks_dir',\n",
       " '_pytesttester',\n",
       " '_set_promotion_state',\n",
       " '_specific_msg',\n",
       " '_typing',\n",
       " '_using_numpy2_behavior',\n",
       " '_utils',\n",
       " '_version',\n",
       " 'abs',\n",
       " 'absolute',\n",
       " 'add',\n",
       " 'add_docstring',\n",
       " 'add_newdoc',\n",
       " 'add_newdoc_ufunc',\n",
       " 'all',\n",
       " 'allclose',\n",
       " 'alltrue',\n",
       " 'amax',\n",
       " 'amin',\n",
       " 'angle',\n",
       " 'any',\n",
       " 'append',\n",
       " 'apply_along_axis',\n",
       " 'apply_over_axes',\n",
       " 'arange',\n",
       " 'arccos',\n",
       " 'arccosh',\n",
       " 'arcsin',\n",
       " 'arcsinh',\n",
       " 'arctan',\n",
       " 'arctan2',\n",
       " 'arctanh',\n",
       " 'argmax',\n",
       " 'argmin',\n",
       " 'argpartition',\n",
       " 'argsort',\n",
       " 'argwhere',\n",
       " 'around',\n",
       " 'array',\n",
       " 'array2string',\n",
       " 'array_equal',\n",
       " 'array_equiv',\n",
       " 'array_repr',\n",
       " 'array_split',\n",
       " 'array_str',\n",
       " 'asanyarray',\n",
       " 'asarray',\n",
       " 'asarray_chkfinite',\n",
       " 'ascontiguousarray',\n",
       " 'asfarray',\n",
       " 'asfortranarray',\n",
       " 'asmatrix',\n",
       " 'atleast_1d',\n",
       " 'atleast_2d',\n",
       " 'atleast_3d',\n",
       " 'average',\n",
       " 'bartlett',\n",
       " 'base_repr',\n",
       " 'binary_repr',\n",
       " 'bincount',\n",
       " 'bitwise_and',\n",
       " 'bitwise_not',\n",
       " 'bitwise_or',\n",
       " 'bitwise_xor',\n",
       " 'blackman',\n",
       " 'block',\n",
       " 'bmat',\n",
       " 'bool_',\n",
       " 'broadcast',\n",
       " 'broadcast_arrays',\n",
       " 'broadcast_shapes',\n",
       " 'broadcast_to',\n",
       " 'busday_count',\n",
       " 'busday_offset',\n",
       " 'busdaycalendar',\n",
       " 'byte',\n",
       " 'byte_bounds',\n",
       " 'bytes_',\n",
       " 'c_',\n",
       " 'can_cast',\n",
       " 'cast',\n",
       " 'cbrt',\n",
       " 'cdouble',\n",
       " 'ceil',\n",
       " 'cfloat',\n",
       " 'char',\n",
       " 'character',\n",
       " 'chararray',\n",
       " 'choose',\n",
       " 'clip',\n",
       " 'clongdouble',\n",
       " 'clongfloat',\n",
       " 'column_stack',\n",
       " 'common_type',\n",
       " 'compare_chararrays',\n",
       " 'compat',\n",
       " 'complex128',\n",
       " 'complex64',\n",
       " 'complex_',\n",
       " 'complexfloating',\n",
       " 'compress',\n",
       " 'concatenate',\n",
       " 'conj',\n",
       " 'conjugate',\n",
       " 'convolve',\n",
       " 'copy',\n",
       " 'copysign',\n",
       " 'copyto',\n",
       " 'corrcoef',\n",
       " 'correlate',\n",
       " 'cos',\n",
       " 'cosh',\n",
       " 'count_nonzero',\n",
       " 'cov',\n",
       " 'cross',\n",
       " 'csingle',\n",
       " 'ctypeslib',\n",
       " 'cumprod',\n",
       " 'cumproduct',\n",
       " 'cumsum',\n",
       " 'datetime64',\n",
       " 'datetime_as_string',\n",
       " 'datetime_data',\n",
       " 'deg2rad',\n",
       " 'degrees',\n",
       " 'delete',\n",
       " 'deprecate',\n",
       " 'deprecate_with_doc',\n",
       " 'diag',\n",
       " 'diag_indices',\n",
       " 'diag_indices_from',\n",
       " 'diagflat',\n",
       " 'diagonal',\n",
       " 'diff',\n",
       " 'digitize',\n",
       " 'disp',\n",
       " 'divide',\n",
       " 'divmod',\n",
       " 'dot',\n",
       " 'double',\n",
       " 'dsplit',\n",
       " 'dstack',\n",
       " 'dtype',\n",
       " 'dtypes',\n",
       " 'e',\n",
       " 'ediff1d',\n",
       " 'einsum',\n",
       " 'einsum_path',\n",
       " 'emath',\n",
       " 'empty',\n",
       " 'empty_like',\n",
       " 'equal',\n",
       " 'errstate',\n",
       " 'euler_gamma',\n",
       " 'exceptions',\n",
       " 'exp',\n",
       " 'exp2',\n",
       " 'expand_dims',\n",
       " 'expm1',\n",
       " 'extract',\n",
       " 'eye',\n",
       " 'fabs',\n",
       " 'fastCopyAndTranspose',\n",
       " 'fft',\n",
       " 'fill_diagonal',\n",
       " 'find_common_type',\n",
       " 'finfo',\n",
       " 'fix',\n",
       " 'flatiter',\n",
       " 'flatnonzero',\n",
       " 'flexible',\n",
       " 'flip',\n",
       " 'fliplr',\n",
       " 'flipud',\n",
       " 'float16',\n",
       " 'float32',\n",
       " 'float64',\n",
       " 'float_',\n",
       " 'float_power',\n",
       " 'floating',\n",
       " 'floor',\n",
       " 'floor_divide',\n",
       " 'fmax',\n",
       " 'fmin',\n",
       " 'fmod',\n",
       " 'format_float_positional',\n",
       " 'format_float_scientific',\n",
       " 'format_parser',\n",
       " 'frexp',\n",
       " 'from_dlpack',\n",
       " 'frombuffer',\n",
       " 'fromfile',\n",
       " 'fromfunction',\n",
       " 'fromiter',\n",
       " 'frompyfunc',\n",
       " 'fromregex',\n",
       " 'fromstring',\n",
       " 'full',\n",
       " 'full_like',\n",
       " 'gcd',\n",
       " 'generic',\n",
       " 'genfromtxt',\n",
       " 'geomspace',\n",
       " 'get_array_wrap',\n",
       " 'get_include',\n",
       " 'get_printoptions',\n",
       " 'getbufsize',\n",
       " 'geterr',\n",
       " 'geterrcall',\n",
       " 'geterrobj',\n",
       " 'gradient',\n",
       " 'greater',\n",
       " 'greater_equal',\n",
       " 'half',\n",
       " 'hamming',\n",
       " 'hanning',\n",
       " 'heaviside',\n",
       " 'histogram',\n",
       " 'histogram2d',\n",
       " 'histogram_bin_edges',\n",
       " 'histogramdd',\n",
       " 'hsplit',\n",
       " 'hstack',\n",
       " 'hypot',\n",
       " 'i0',\n",
       " 'identity',\n",
       " 'iinfo',\n",
       " 'imag',\n",
       " 'in1d',\n",
       " 'index_exp',\n",
       " 'indices',\n",
       " 'inexact',\n",
       " 'inf',\n",
       " 'info',\n",
       " 'infty',\n",
       " 'inner',\n",
       " 'insert',\n",
       " 'int16',\n",
       " 'int32',\n",
       " 'int64',\n",
       " 'int8',\n",
       " 'int_',\n",
       " 'intc',\n",
       " 'integer',\n",
       " 'interp',\n",
       " 'intersect1d',\n",
       " 'intp',\n",
       " 'invert',\n",
       " 'is_busday',\n",
       " 'isclose',\n",
       " 'iscomplex',\n",
       " 'iscomplexobj',\n",
       " 'isfinite',\n",
       " 'isfortran',\n",
       " 'isin',\n",
       " 'isinf',\n",
       " 'isnan',\n",
       " 'isnat',\n",
       " 'isneginf',\n",
       " 'isposinf',\n",
       " 'isreal',\n",
       " 'isrealobj',\n",
       " 'isscalar',\n",
       " 'issctype',\n",
       " 'issubclass_',\n",
       " 'issubdtype',\n",
       " 'issubsctype',\n",
       " 'iterable',\n",
       " 'ix_',\n",
       " 'kaiser',\n",
       " 'kron',\n",
       " 'lcm',\n",
       " 'ldexp',\n",
       " 'left_shift',\n",
       " 'less',\n",
       " 'less_equal',\n",
       " 'lexsort',\n",
       " 'lib',\n",
       " 'linalg',\n",
       " 'linspace',\n",
       " 'little_endian',\n",
       " 'load',\n",
       " 'loadtxt',\n",
       " 'log',\n",
       " 'log10',\n",
       " 'log1p',\n",
       " 'log2',\n",
       " 'logaddexp',\n",
       " 'logaddexp2',\n",
       " 'logical_and',\n",
       " 'logical_not',\n",
       " 'logical_or',\n",
       " 'logical_xor',\n",
       " 'logspace',\n",
       " 'longcomplex',\n",
       " 'longdouble',\n",
       " 'longfloat',\n",
       " 'longlong',\n",
       " 'lookfor',\n",
       " 'ma',\n",
       " 'mask_indices',\n",
       " 'mat',\n",
       " 'matmul',\n",
       " 'matrix',\n",
       " 'max',\n",
       " 'maximum',\n",
       " 'maximum_sctype',\n",
       " 'may_share_memory',\n",
       " 'mean',\n",
       " 'median',\n",
       " 'memmap',\n",
       " 'meshgrid',\n",
       " 'mgrid',\n",
       " 'min',\n",
       " 'min_scalar_type',\n",
       " 'minimum',\n",
       " 'mintypecode',\n",
       " 'mod',\n",
       " 'modf',\n",
       " 'moveaxis',\n",
       " 'msort',\n",
       " 'multiply',\n",
       " 'nan',\n",
       " 'nan_to_num',\n",
       " 'nanargmax',\n",
       " 'nanargmin',\n",
       " 'nancumprod',\n",
       " 'nancumsum',\n",
       " 'nanmax',\n",
       " 'nanmean',\n",
       " 'nanmedian',\n",
       " 'nanmin',\n",
       " 'nanpercentile',\n",
       " 'nanprod',\n",
       " 'nanquantile',\n",
       " 'nanstd',\n",
       " 'nansum',\n",
       " 'nanvar',\n",
       " 'nbytes',\n",
       " 'ndarray',\n",
       " 'ndenumerate',\n",
       " 'ndim',\n",
       " 'ndindex',\n",
       " 'nditer',\n",
       " 'negative',\n",
       " 'nested_iters',\n",
       " 'newaxis',\n",
       " 'nextafter',\n",
       " 'nonzero',\n",
       " 'not_equal',\n",
       " 'numarray',\n",
       " 'number',\n",
       " 'obj2sctype',\n",
       " 'object_',\n",
       " 'ogrid',\n",
       " 'oldnumeric',\n",
       " 'ones',\n",
       " 'ones_like',\n",
       " 'outer',\n",
       " 'packbits',\n",
       " 'pad',\n",
       " 'partition',\n",
       " 'percentile',\n",
       " 'pi',\n",
       " 'piecewise',\n",
       " 'place',\n",
       " 'poly',\n",
       " 'poly1d',\n",
       " 'polyadd',\n",
       " 'polyder',\n",
       " 'polydiv',\n",
       " 'polyfit',\n",
       " 'polyint',\n",
       " 'polymul',\n",
       " 'polynomial',\n",
       " 'polysub',\n",
       " 'polyval',\n",
       " 'positive',\n",
       " 'power',\n",
       " 'printoptions',\n",
       " 'prod',\n",
       " 'product',\n",
       " 'promote_types',\n",
       " 'ptp',\n",
       " 'put',\n",
       " 'put_along_axis',\n",
       " 'putmask',\n",
       " 'quantile',\n",
       " 'r_',\n",
       " 'rad2deg',\n",
       " 'radians',\n",
       " 'random',\n",
       " 'ravel',\n",
       " 'ravel_multi_index',\n",
       " 'real',\n",
       " 'real_if_close',\n",
       " 'rec',\n",
       " 'recarray',\n",
       " 'recfromcsv',\n",
       " 'recfromtxt',\n",
       " 'reciprocal',\n",
       " 'record',\n",
       " 'remainder',\n",
       " 'repeat',\n",
       " 'require',\n",
       " 'reshape',\n",
       " 'resize',\n",
       " 'result_type',\n",
       " 'right_shift',\n",
       " 'rint',\n",
       " 'roll',\n",
       " 'rollaxis',\n",
       " 'roots',\n",
       " 'rot90',\n",
       " 'round',\n",
       " 'round_',\n",
       " 'row_stack',\n",
       " 's_',\n",
       " 'safe_eval',\n",
       " 'save',\n",
       " 'savetxt',\n",
       " 'savez',\n",
       " 'savez_compressed',\n",
       " 'sctype2char',\n",
       " 'sctypeDict',\n",
       " 'sctypes',\n",
       " 'searchsorted',\n",
       " 'select',\n",
       " 'set_numeric_ops',\n",
       " 'set_printoptions',\n",
       " 'set_string_function',\n",
       " 'setbufsize',\n",
       " 'setdiff1d',\n",
       " 'seterr',\n",
       " 'seterrcall',\n",
       " 'seterrobj',\n",
       " 'setxor1d',\n",
       " 'shape',\n",
       " 'shares_memory',\n",
       " 'short',\n",
       " 'show_config',\n",
       " 'show_runtime',\n",
       " 'sign',\n",
       " 'signbit',\n",
       " 'signedinteger',\n",
       " 'sin',\n",
       " 'sinc',\n",
       " 'single',\n",
       " 'singlecomplex',\n",
       " 'sinh',\n",
       " 'size',\n",
       " 'sometrue',\n",
       " 'sort',\n",
       " 'sort_complex',\n",
       " 'source',\n",
       " 'spacing',\n",
       " 'split',\n",
       " 'sqrt',\n",
       " 'square',\n",
       " 'squeeze',\n",
       " 'stack',\n",
       " 'std',\n",
       " 'str_',\n",
       " 'string_',\n",
       " 'subtract',\n",
       " 'sum',\n",
       " 'swapaxes',\n",
       " 'take',\n",
       " 'take_along_axis',\n",
       " 'tan',\n",
       " 'tanh',\n",
       " 'tensordot',\n",
       " 'test',\n",
       " 'testing',\n",
       " 'tile',\n",
       " 'timedelta64',\n",
       " 'trace',\n",
       " 'tracemalloc_domain',\n",
       " 'transpose',\n",
       " 'trapz',\n",
       " 'tri',\n",
       " 'tril',\n",
       " 'tril_indices',\n",
       " 'tril_indices_from',\n",
       " 'trim_zeros',\n",
       " 'triu',\n",
       " 'triu_indices',\n",
       " 'triu_indices_from',\n",
       " 'true_divide',\n",
       " 'trunc',\n",
       " 'typecodes',\n",
       " 'typename',\n",
       " 'ubyte',\n",
       " 'ufunc',\n",
       " 'uint',\n",
       " 'uint16',\n",
       " 'uint32',\n",
       " 'uint64',\n",
       " 'uint8',\n",
       " 'uintc',\n",
       " 'uintp',\n",
       " 'ulonglong',\n",
       " 'unicode_',\n",
       " 'union1d',\n",
       " 'unique',\n",
       " 'unpackbits',\n",
       " 'unravel_index',\n",
       " 'unsignedinteger',\n",
       " 'unwrap',\n",
       " 'ushort',\n",
       " 'vander',\n",
       " 'var',\n",
       " 'vdot',\n",
       " 'vectorize',\n",
       " 'version',\n",
       " 'void',\n",
       " 'vsplit',\n",
       " 'vstack',\n",
       " 'where',\n",
       " 'who',\n",
       " 'zeros',\n",
       " 'zeros_like']"
      ]
     },
     "execution_count": 3,
     "metadata": {},
     "output_type": "execute_result"
    }
   ],
   "source": [
    "dir(np)"
   ]
  },
  {
   "cell_type": "code",
   "execution_count": 24,
   "id": "5cd38883-f5d3-4326-9021-e963fc62bdac",
   "metadata": {},
   "outputs": [
    {
     "name": "stdout",
     "output_type": "stream",
     "text": [
      "[1, 1, 3, 1]\n"
     ]
    }
   ],
   "source": [
    "#파이썬으로는 하나하나가 데이터라서 꺼내서 돌려야 하는데,\n",
    "x=[]\n",
    "for i in [-1,1,3,1]:\n",
    "    x.append(abs(i))\n",
    "print(x)        "
   ]
  },
  {
   "cell_type": "code",
   "execution_count": 21,
   "id": "4fda9d76-2ce0-4ebf-9d03-c234db07de37",
   "metadata": {},
   "outputs": [
    {
     "data": {
      "text/plain": [
       "[1, 1, 3, 1]"
      ]
     },
     "execution_count": 21,
     "metadata": {},
     "output_type": "execute_result"
    }
   ],
   "source": [
    "[abs(i) for i in [-1,1,3,1]]"
   ]
  },
  {
   "cell_type": "code",
   "execution_count": 23,
   "id": "584ddb50-a32c-4326-a3bc-3b462f29c1d0",
   "metadata": {},
   "outputs": [
    {
     "data": {
      "text/plain": [
       "array([1, 1, 3, 1])"
      ]
     },
     "execution_count": 23,
     "metadata": {},
     "output_type": "execute_result"
    }
   ],
   "source": [
    "#numpy는 넘파이 어레이에서 통째로 돌아간다.\n",
    "np.abs([-1,1,3,1])"
   ]
  },
  {
   "cell_type": "code",
   "execution_count": 29,
   "id": "860bd421-124e-4bf9-a23e-c60008e0c358",
   "metadata": {},
   "outputs": [
    {
     "name": "stdout",
     "output_type": "stream",
     "text": [
      "True\n",
      "False\n",
      "True\n"
     ]
    }
   ],
   "source": [
    "#all은 다 맞으면 True, 하나라도 0이 있으면 False -> AND 연산\n",
    "print(np.all([1,2,3]))\n",
    "print(np.all([0,1,2]))\n",
    "print(np.all([-1,1,2]))"
   ]
  },
  {
   "cell_type": "code",
   "execution_count": 30,
   "id": "ef3dca4e-9281-4d29-9736-5a489bc40e94",
   "metadata": {},
   "outputs": [
    {
     "name": "stdout",
     "output_type": "stream",
     "text": [
      "True\n",
      "True\n",
      "True\n"
     ]
    }
   ],
   "source": [
    "#any는 하나라도 맞으면 True, 다 0이면 Flase -> OR 연산\n",
    "print(np.any([1,2,3]))\n",
    "print(np.any([0,0,2]))\n",
    "print(np.any([-1,1,2]))"
   ]
  },
  {
   "cell_type": "code",
   "execution_count": 38,
   "id": "aef591e4-cf70-4665-a027-8aeda565038f",
   "metadata": {},
   "outputs": [
    {
     "data": {
      "text/plain": [
       "array([ 1,  2,  3,  4, 10])"
      ]
     },
     "execution_count": 38,
     "metadata": {},
     "output_type": "execute_result"
    }
   ],
   "source": [
    "arr=np.array([1,2,3,4])\n",
    "np.append(arr,10) #np.array는 함수로서 객체값을 변화시키지 않고 리턴값만 돌려준다."
   ]
  },
  {
   "cell_type": "code",
   "execution_count": 39,
   "id": "cba5a566-684c-4103-83f4-735b6ca3239e",
   "metadata": {},
   "outputs": [
    {
     "data": {
      "text/plain": [
       "array([1, 2, 3, 4])"
      ]
     },
     "execution_count": 39,
     "metadata": {},
     "output_type": "execute_result"
    }
   ],
   "source": [
    "arr"
   ]
  },
  {
   "cell_type": "code",
   "execution_count": 40,
   "id": "cab5ecc6-1956-4f53-9e8d-288422ea24df",
   "metadata": {},
   "outputs": [],
   "source": [
    "arr=np.append(arr,10)"
   ]
  },
  {
   "cell_type": "code",
   "execution_count": 41,
   "id": "56247708-7bb6-42df-995e-0aeb88e8f764",
   "metadata": {},
   "outputs": [
    {
     "data": {
      "text/plain": [
       "array([ 1,  2,  3,  4, 10])"
      ]
     },
     "execution_count": 41,
     "metadata": {},
     "output_type": "execute_result"
    }
   ],
   "source": [
    "arr"
   ]
  },
  {
   "cell_type": "code",
   "execution_count": 43,
   "id": "e4b8cc65-2f02-4dbd-b8d9-9b0f23442ca0",
   "metadata": {},
   "outputs": [],
   "source": [
    "n_range = np.arange(1,11) #값\n",
    "r = range(1,11)           #제네레이터"
   ]
  },
  {
   "cell_type": "code",
   "execution_count": 46,
   "id": "312c6fdf-994e-410f-8081-0781aa4e7e4b",
   "metadata": {},
   "outputs": [
    {
     "ename": "TypeError",
     "evalue": "unsupported operand type(s) for +: 'range' and 'int'",
     "output_type": "error",
     "traceback": [
      "\u001b[1;31m---------------------------------------------------------------------------\u001b[0m",
      "\u001b[1;31mTypeError\u001b[0m                                 Traceback (most recent call last)",
      "Cell \u001b[1;32mIn[46], line 1\u001b[0m\n\u001b[1;32m----> 1\u001b[0m \u001b[43mr\u001b[49m\u001b[38;5;241;43m+\u001b[39;49m\u001b[38;5;241;43m1\u001b[39;49m\n",
      "\u001b[1;31mTypeError\u001b[0m: unsupported operand type(s) for +: 'range' and 'int'"
     ]
    }
   ],
   "source": [
    "r+1"
   ]
  },
  {
   "cell_type": "markdown",
   "id": "30ff74cb-897c-461a-a46b-5a53943ce3e2",
   "metadata": {},
   "source": [
    "이미 값인 상태라 더 빠르게 돌려진다"
   ]
  },
  {
   "cell_type": "code",
   "execution_count": 48,
   "id": "121d463e-adaa-4e16-b830-0a448d16299e",
   "metadata": {},
   "outputs": [],
   "source": [
    "m1 = np.arange(20).reshape(4,5)"
   ]
  },
  {
   "cell_type": "code",
   "execution_count": 49,
   "id": "eba1d488-9c6a-4c6a-834e-ea7804a11f9b",
   "metadata": {},
   "outputs": [
    {
     "data": {
      "text/plain": [
       "array([[ 0,  1,  2,  3,  4],\n",
       "       [ 5,  6,  7,  8,  9],\n",
       "       [10, 11, 12, 13, 14],\n",
       "       [15, 16, 17, 18, 19]])"
      ]
     },
     "execution_count": 49,
     "metadata": {},
     "output_type": "execute_result"
    }
   ],
   "source": [
    "m1"
   ]
  },
  {
   "cell_type": "code",
   "execution_count": 62,
   "id": "b543b7b4-76fd-499d-8665-422b4ad5156f",
   "metadata": {},
   "outputs": [
    {
     "data": {
      "text/plain": [
       "array([ 0,  1,  2,  3,  4,  5,  6,  7,  8,  9, 10, 11, 12, 13, 14, 15, 16,\n",
       "       17, 18, 19, 10])"
      ]
     },
     "execution_count": 62,
     "metadata": {},
     "output_type": "execute_result"
    }
   ],
   "source": [
    "#10을 넣을 곳이 없어서 풀어버리고 넣어준다.\n",
    "np.append(m1,10)"
   ]
  },
  {
   "cell_type": "code",
   "execution_count": 102,
   "id": "672058a9-ccc0-4cfa-9fc0-369ed6e52511",
   "metadata": {},
   "outputs": [],
   "source": [
    "import pandas as pd\n",
    "np.random.seed(100)\n",
    "df = pd.DataFrame(np.random.randint(1,20,size=(10000000,5)))"
   ]
  },
  {
   "cell_type": "markdown",
   "id": "12bbdb9f-c55c-4012-b383-278491cc2dec",
   "metadata": {},
   "source": [
    "df는 짝수가 몇개인지?"
   ]
  },
  {
   "cell_type": "code",
   "execution_count": 103,
   "id": "e214cbc7-c24b-44f8-9221-a23d019c9097",
   "metadata": {},
   "outputs": [
    {
     "data": {
      "text/plain": [
       "(10000000, 5)"
      ]
     },
     "execution_count": 103,
     "metadata": {},
     "output_type": "execute_result"
    }
   ],
   "source": [
    "df.shape"
   ]
  },
  {
   "cell_type": "markdown",
   "id": "ca005215-142f-4f42-9399-aa0c1b5e079e",
   "metadata": {},
   "source": [
    "가능하면 numpy돌리면 무조건 좋다."
   ]
  },
  {
   "cell_type": "code",
   "execution_count": 108,
   "id": "ec1c31b6-c077-4619-a7bb-8824b7390bc2",
   "metadata": {},
   "outputs": [
    {
     "data": {
      "text/plain": [
       "0          3\n",
       "1          0\n",
       "2          2\n",
       "3          2\n",
       "4          2\n",
       "          ..\n",
       "9999995    2\n",
       "9999996    4\n",
       "9999997    3\n",
       "9999998    1\n",
       "9999999    3\n",
       "Length: 10000000, dtype: int64"
      ]
     },
     "execution_count": 108,
     "metadata": {},
     "output_type": "execute_result"
    }
   ],
   "source": [
    "np.sum((df+1)%2,1)"
   ]
  },
  {
   "cell_type": "markdown",
   "id": "ef092573-849d-4702-8aac-df7fa2b96d18",
   "metadata": {},
   "source": [
    "삼항 연산자 두개중에 맞으면 표현하는 것 (조건,true일때 값, false일때 값)<br>\n",
    "넘파이는 np.where"
   ]
  },
  {
   "cell_type": "code",
   "execution_count": 106,
   "id": "a9a5cb62-704f-4008-8541-24b477447a90",
   "metadata": {},
   "outputs": [
    {
     "data": {
      "text/plain": [
       "array([False,  True, False,  True, False, False, False])"
      ]
     },
     "execution_count": 106,
     "metadata": {},
     "output_type": "execute_result"
    }
   ],
   "source": [
    "x = np.array([2,1,2,1,2,2,2])\n",
    "np.where(x==1,True,False)"
   ]
  },
  {
   "cell_type": "code",
   "execution_count": 109,
   "id": "6fc75285-105b-4deb-a5ac-ddb118b0defb",
   "metadata": {},
   "outputs": [],
   "source": [
    "def xx(x):\n",
    "    return np.sum(np.where(x%2==0,1,0))"
   ]
  },
  {
   "cell_type": "code",
   "execution_count": 111,
   "id": "4c81616f-b263-414e-9eaf-689ec9a61c60",
   "metadata": {
    "scrolled": true
   },
   "outputs": [],
   "source": [
    "#a = df.apply(xx,1) #오오래걸림"
   ]
  },
  {
   "cell_type": "code",
   "execution_count": 115,
   "id": "a5f800c6-8b8c-4dba-95e8-8c0df3b7ebd4",
   "metadata": {
    "scrolled": true
   },
   "outputs": [],
   "source": [
    "#df.apply(lambda x: np.sum(np.where(x%2==0,1,0)),1) #이것도 오오래 걸림, 형태는 이거 권장"
   ]
  },
  {
   "cell_type": "code",
   "execution_count": 118,
   "id": "1469ec0d-5ffa-492f-84ec-5e1a67abf594",
   "metadata": {
    "scrolled": true
   },
   "outputs": [],
   "source": [
    "a=np.apply_along_axis(xx,1,df.values)\n",
    "#a = df.apply(xx,1)"
   ]
  },
  {
   "cell_type": "code",
   "execution_count": 128,
   "id": "436a5224-c024-45e3-b96c-16fcecc9ec29",
   "metadata": {},
   "outputs": [
    {
     "data": {
      "text/plain": [
       "1.0"
      ]
     },
     "execution_count": 128,
     "metadata": {},
     "output_type": "execute_result"
    }
   ],
   "source": [
    "import math\n",
    "math.sin(np.pi/2)\n",
    "np.sin(np.pi/2)"
   ]
  },
  {
   "cell_type": "code",
   "execution_count": 129,
   "id": "fbcc19d1-d0a9-45f9-b1e8-9f21b790c931",
   "metadata": {},
   "outputs": [
    {
     "data": {
      "text/plain": [
       "2.718281828459045"
      ]
     },
     "execution_count": 129,
     "metadata": {},
     "output_type": "execute_result"
    }
   ],
   "source": [
    "np.e"
   ]
  },
  {
   "cell_type": "code",
   "execution_count": 144,
   "id": "6693b7a8-f56f-446f-848e-f2765a1a4f1a",
   "metadata": {},
   "outputs": [
    {
     "data": {
      "text/plain": [
       "array([2, 3, 4])"
      ]
     },
     "execution_count": 144,
     "metadata": {},
     "output_type": "execute_result"
    }
   ],
   "source": [
    "arr = np.array([2,3,4])\n",
    "np.argmax(arr) #argument중에 가장 큰 값이 있는 곳\n",
    "np.argmin(arr) #argument중에 가장 작은 값이 있는 곳\n",
    "np.min(arr)\n",
    "np.max(arr)\n",
    "np.sort(arr)"
   ]
  },
  {
   "cell_type": "code",
   "execution_count": 145,
   "id": "fbef1b34-c324-46ba-aa16-bf6340e363fc",
   "metadata": {
    "scrolled": true
   },
   "outputs": [
    {
     "data": {
      "text/plain": [
       "array([0, 1, 2], dtype=int64)"
      ]
     },
     "execution_count": 145,
     "metadata": {},
     "output_type": "execute_result"
    }
   ],
   "source": [
    "np.argsort(arr) #argument 오차순 순서 어레이 중요!!!"
   ]
  },
  {
   "cell_type": "code",
   "execution_count": 138,
   "id": "12cfab81-7fa8-4c8b-b9b2-9782b872e72e",
   "metadata": {
    "scrolled": true
   },
   "outputs": [
    {
     "data": {
      "text/plain": [
       "\u001b[1;31mSignature:\u001b[0m       \u001b[0mnp\u001b[0m\u001b[1;33m.\u001b[0m\u001b[0margsort\u001b[0m\u001b[1;33m(\u001b[0m\u001b[0ma\u001b[0m\u001b[1;33m,\u001b[0m \u001b[0maxis\u001b[0m\u001b[1;33m=\u001b[0m\u001b[1;33m-\u001b[0m\u001b[1;36m1\u001b[0m\u001b[1;33m,\u001b[0m \u001b[0mkind\u001b[0m\u001b[1;33m=\u001b[0m\u001b[1;32mNone\u001b[0m\u001b[1;33m,\u001b[0m \u001b[0morder\u001b[0m\u001b[1;33m=\u001b[0m\u001b[1;32mNone\u001b[0m\u001b[1;33m)\u001b[0m\u001b[1;33m\u001b[0m\u001b[1;33m\u001b[0m\u001b[0m\n",
       "\u001b[1;31mCall signature:\u001b[0m  \u001b[0mnp\u001b[0m\u001b[1;33m.\u001b[0m\u001b[0margsort\u001b[0m\u001b[1;33m(\u001b[0m\u001b[1;33m*\u001b[0m\u001b[0margs\u001b[0m\u001b[1;33m,\u001b[0m \u001b[1;33m**\u001b[0m\u001b[0mkwargs\u001b[0m\u001b[1;33m)\u001b[0m\u001b[1;33m\u001b[0m\u001b[1;33m\u001b[0m\u001b[0m\n",
       "\u001b[1;31mType:\u001b[0m            _ArrayFunctionDispatcher\n",
       "\u001b[1;31mString form:\u001b[0m     <function argsort at 0x0000020CB26C32E0>\n",
       "\u001b[1;31mFile:\u001b[0m            c:\\users\\user\\anaconda3\\lib\\site-packages\\numpy\\core\\fromnumeric.py\n",
       "\u001b[1;31mSource:\u001b[0m         \n",
       "\u001b[1;33m@\u001b[0m\u001b[0marray_function_dispatch\u001b[0m\u001b[1;33m(\u001b[0m\u001b[0m_argsort_dispatcher\u001b[0m\u001b[1;33m)\u001b[0m\u001b[1;33m\n",
       "\u001b[0m\u001b[1;32mdef\u001b[0m \u001b[0margsort\u001b[0m\u001b[1;33m(\u001b[0m\u001b[0ma\u001b[0m\u001b[1;33m,\u001b[0m \u001b[0maxis\u001b[0m\u001b[1;33m=\u001b[0m\u001b[1;33m-\u001b[0m\u001b[1;36m1\u001b[0m\u001b[1;33m,\u001b[0m \u001b[0mkind\u001b[0m\u001b[1;33m=\u001b[0m\u001b[1;32mNone\u001b[0m\u001b[1;33m,\u001b[0m \u001b[0morder\u001b[0m\u001b[1;33m=\u001b[0m\u001b[1;32mNone\u001b[0m\u001b[1;33m)\u001b[0m\u001b[1;33m:\u001b[0m\u001b[1;33m\n",
       "\u001b[0m    \u001b[1;34m\"\"\"\n",
       "    Returns the indices that would sort an array.\n",
       "\n",
       "    Perform an indirect sort along the given axis using the algorithm specified\n",
       "    by the `kind` keyword. It returns an array of indices of the same shape as\n",
       "    `a` that index data along the given axis in sorted order.\n",
       "\n",
       "    Parameters\n",
       "    ----------\n",
       "    a : array_like\n",
       "        Array to sort.\n",
       "    axis : int or None, optional\n",
       "        Axis along which to sort.  The default is -1 (the last axis). If None,\n",
       "        the flattened array is used.\n",
       "    kind : {'quicksort', 'mergesort', 'heapsort', 'stable'}, optional\n",
       "        Sorting algorithm. The default is 'quicksort'. Note that both 'stable'\n",
       "        and 'mergesort' use timsort under the covers and, in general, the\n",
       "        actual implementation will vary with data type. The 'mergesort' option\n",
       "        is retained for backwards compatibility.\n",
       "\n",
       "        .. versionchanged:: 1.15.0.\n",
       "           The 'stable' option was added.\n",
       "    order : str or list of str, optional\n",
       "        When `a` is an array with fields defined, this argument specifies\n",
       "        which fields to compare first, second, etc.  A single field can\n",
       "        be specified as a string, and not all fields need be specified,\n",
       "        but unspecified fields will still be used, in the order in which\n",
       "        they come up in the dtype, to break ties.\n",
       "\n",
       "    Returns\n",
       "    -------\n",
       "    index_array : ndarray, int\n",
       "        Array of indices that sort `a` along the specified `axis`.\n",
       "        If `a` is one-dimensional, ``a[index_array]`` yields a sorted `a`.\n",
       "        More generally, ``np.take_along_axis(a, index_array, axis=axis)``\n",
       "        always yields the sorted `a`, irrespective of dimensionality.\n",
       "\n",
       "    See Also\n",
       "    --------\n",
       "    sort : Describes sorting algorithms used.\n",
       "    lexsort : Indirect stable sort with multiple keys.\n",
       "    ndarray.sort : Inplace sort.\n",
       "    argpartition : Indirect partial sort.\n",
       "    take_along_axis : Apply ``index_array`` from argsort\n",
       "                      to an array as if by calling sort.\n",
       "\n",
       "    Notes\n",
       "    -----\n",
       "    See `sort` for notes on the different sorting algorithms.\n",
       "\n",
       "    As of NumPy 1.4.0 `argsort` works with real/complex arrays containing\n",
       "    nan values. The enhanced sort order is documented in `sort`.\n",
       "\n",
       "    Examples\n",
       "    --------\n",
       "    One dimensional array:\n",
       "\n",
       "    >>> x = np.array([3, 1, 2])\n",
       "    >>> np.argsort(x)\n",
       "    array([1, 2, 0])\n",
       "\n",
       "    Two-dimensional array:\n",
       "\n",
       "    >>> x = np.array([[0, 3], [2, 2]])\n",
       "    >>> x\n",
       "    array([[0, 3],\n",
       "           [2, 2]])\n",
       "\n",
       "    >>> ind = np.argsort(x, axis=0)  # sorts along first axis (down)\n",
       "    >>> ind\n",
       "    array([[0, 1],\n",
       "           [1, 0]])\n",
       "    >>> np.take_along_axis(x, ind, axis=0)  # same as np.sort(x, axis=0)\n",
       "    array([[0, 2],\n",
       "           [2, 3]])\n",
       "\n",
       "    >>> ind = np.argsort(x, axis=1)  # sorts along last axis (across)\n",
       "    >>> ind\n",
       "    array([[0, 1],\n",
       "           [0, 1]])\n",
       "    >>> np.take_along_axis(x, ind, axis=1)  # same as np.sort(x, axis=1)\n",
       "    array([[0, 3],\n",
       "           [2, 2]])\n",
       "\n",
       "    Indices of the sorted elements of a N-dimensional array:\n",
       "\n",
       "    >>> ind = np.unravel_index(np.argsort(x, axis=None), x.shape)\n",
       "    >>> ind\n",
       "    (array([0, 1, 1, 0]), array([0, 0, 1, 1]))\n",
       "    >>> x[ind]  # same as np.sort(x, axis=None)\n",
       "    array([0, 2, 2, 3])\n",
       "\n",
       "    Sorting with keys:\n",
       "\n",
       "    >>> x = np.array([(1, 0), (0, 1)], dtype=[('x', '<i4'), ('y', '<i4')])\n",
       "    >>> x\n",
       "    array([(1, 0), (0, 1)],\n",
       "          dtype=[('x', '<i4'), ('y', '<i4')])\n",
       "\n",
       "    >>> np.argsort(x, order=('x','y'))\n",
       "    array([1, 0])\n",
       "\n",
       "    >>> np.argsort(x, order=('y','x'))\n",
       "    array([0, 1])\n",
       "\n",
       "    \"\"\"\u001b[0m\u001b[1;33m\n",
       "\u001b[0m    \u001b[1;32mreturn\u001b[0m \u001b[0m_wrapfunc\u001b[0m\u001b[1;33m(\u001b[0m\u001b[0ma\u001b[0m\u001b[1;33m,\u001b[0m \u001b[1;34m'argsort'\u001b[0m\u001b[1;33m,\u001b[0m \u001b[0maxis\u001b[0m\u001b[1;33m=\u001b[0m\u001b[0maxis\u001b[0m\u001b[1;33m,\u001b[0m \u001b[0mkind\u001b[0m\u001b[1;33m=\u001b[0m\u001b[0mkind\u001b[0m\u001b[1;33m,\u001b[0m \u001b[0morder\u001b[0m\u001b[1;33m=\u001b[0m\u001b[0morder\u001b[0m\u001b[1;33m)\u001b[0m\u001b[1;33m\u001b[0m\u001b[1;33m\u001b[0m\u001b[0m\n",
       "\u001b[1;31mClass docstring:\u001b[0m\n",
       "Class to wrap functions with checks for __array_function__ overrides.\n",
       "\n",
       "All arguments are required, and can only be passed by position.\n",
       "\n",
       "Parameters\n",
       "----------\n",
       "dispatcher : function or None\n",
       "    The dispatcher function that returns a single sequence-like object\n",
       "    of all arguments relevant.  It must have the same signature (except\n",
       "    the default values) as the actual implementation.\n",
       "    If ``None``, this is a ``like=`` dispatcher and the\n",
       "    ``_ArrayFunctionDispatcher`` must be called with ``like`` as the\n",
       "    first (additional and positional) argument.\n",
       "implementation : function\n",
       "    Function that implements the operation on NumPy arrays without\n",
       "    overrides.  Arguments passed calling the ``_ArrayFunctionDispatcher``\n",
       "    will be forwarded to this (and the ``dispatcher``) as if using\n",
       "    ``*args, **kwargs``.\n",
       "\n",
       "Attributes\n",
       "----------\n",
       "_implementation : function\n",
       "    The original implementation passed in."
      ]
     },
     "metadata": {},
     "output_type": "display_data"
    }
   ],
   "source": [
    "np.argsort??"
   ]
  },
  {
   "cell_type": "markdown",
   "id": "8c2df9e0-e962-4084-8d33-8c38f43d20f6",
   "metadata": {},
   "source": [
    "#중요도 순서             <br>\n",
    "np.argsort(arr) #1      <br>\n",
    "np.argmax(arr) #2       <br>\n",
    "np.argmin(arr) #2       <br>\n",
    "np.min(arr)     #3      <br>\n",
    "np.max(arr)     #3      <br>\n",
    "np.sort(arr)    #4"
   ]
  },
  {
   "cell_type": "code",
   "execution_count": 149,
   "id": "e7a2117d-3c5c-4e26-b503-aae722665ca5",
   "metadata": {},
   "outputs": [],
   "source": [
    "#round([7/96,5/13],2)"
   ]
  },
  {
   "cell_type": "code",
   "execution_count": 150,
   "id": "7e120569-3377-4f0b-a517-e67ac5fe99cd",
   "metadata": {},
   "outputs": [
    {
     "data": {
      "text/plain": [
       "array([0.07, 0.38])"
      ]
     },
     "execution_count": 150,
     "metadata": {},
     "output_type": "execute_result"
    }
   ],
   "source": [
    "np.around([7/96, 5/13],2)"
   ]
  },
  {
   "cell_type": "code",
   "execution_count": 151,
   "id": "fa4617e1-2e32-4ccd-a05e-9c5952ece96e",
   "metadata": {},
   "outputs": [],
   "source": [
    "m1 = np.random.randint(1,10,size=(2,3))\n",
    "m2 = np.random.randint(1,10,size=(3,2))\n",
    "\n",
    "#np.asmatrix()"
   ]
  },
  {
   "cell_type": "code",
   "execution_count": 152,
   "id": "5662993e-66e9-40ca-a04f-15811573e4c2",
   "metadata": {},
   "outputs": [
    {
     "data": {
      "text/plain": [
       "numpy.ndarray"
      ]
     },
     "execution_count": 152,
     "metadata": {},
     "output_type": "execute_result"
    }
   ],
   "source": [
    "type(m1)"
   ]
  },
  {
   "cell_type": "code",
   "execution_count": 153,
   "id": "bdd3d5f9-e394-4849-af84-0a82cf4cbc0f",
   "metadata": {},
   "outputs": [
    {
     "data": {
      "text/plain": [
       "(2, 3)"
      ]
     },
     "execution_count": 153,
     "metadata": {},
     "output_type": "execute_result"
    }
   ],
   "source": [
    "m1.shape"
   ]
  },
  {
   "cell_type": "code",
   "execution_count": 154,
   "id": "5869bd85-5a38-460c-a24a-5d9ae315b7fe",
   "metadata": {},
   "outputs": [
    {
     "data": {
      "text/plain": [
       "array([[ 83,  50],\n",
       "       [104,  74]])"
      ]
     },
     "execution_count": 154,
     "metadata": {},
     "output_type": "execute_result"
    }
   ],
   "source": [
    "np.dot(m1,m2)"
   ]
  },
  {
   "cell_type": "code",
   "execution_count": 155,
   "id": "dcbf77c6-a3b1-4ae4-8c10-761ebd53bd4e",
   "metadata": {},
   "outputs": [
    {
     "ename": "ValueError",
     "evalue": "operands could not be broadcast together with shapes (2,3) (3,2) ",
     "output_type": "error",
     "traceback": [
      "\u001b[1;31m---------------------------------------------------------------------------\u001b[0m",
      "\u001b[1;31mValueError\u001b[0m                                Traceback (most recent call last)",
      "Cell \u001b[1;32mIn[155], line 1\u001b[0m\n\u001b[1;32m----> 1\u001b[0m \u001b[43mm1\u001b[49m\u001b[38;5;241;43m*\u001b[39;49m\u001b[43mm2\u001b[49m\n",
      "\u001b[1;31mValueError\u001b[0m: operands could not be broadcast together with shapes (2,3) (3,2) "
     ]
    }
   ],
   "source": [
    "m1*m2"
   ]
  },
  {
   "cell_type": "code",
   "execution_count": 157,
   "id": "87241b9d-4181-41a8-8fae-be19ee91c0c8",
   "metadata": {},
   "outputs": [],
   "source": [
    "m3 = np.asmatrix(m1)\n",
    "m4 = np.asmatrix(m2)"
   ]
  },
  {
   "cell_type": "code",
   "execution_count": 160,
   "id": "654ae91a-20ca-486b-a6f7-40037bd17c94",
   "metadata": {
    "scrolled": true
   },
   "outputs": [
    {
     "data": {
      "text/plain": [
       "matrix([[ 83,  50],\n",
       "        [104,  74]])"
      ]
     },
     "execution_count": 160,
     "metadata": {},
     "output_type": "execute_result"
    }
   ],
   "source": [
    "np.dot(m3,m4)"
   ]
  },
  {
   "cell_type": "code",
   "execution_count": 158,
   "id": "1dc09d9d-0dc8-4741-b886-f4765b312b77",
   "metadata": {},
   "outputs": [
    {
     "data": {
      "text/plain": [
       "matrix([[ 83,  50],\n",
       "        [104,  74]])"
      ]
     },
     "execution_count": 158,
     "metadata": {},
     "output_type": "execute_result"
    }
   ],
   "source": [
    "m3*m4"
   ]
  },
  {
   "cell_type": "markdown",
   "id": "70740556-99a5-4ba8-9f3f-9e6df21ac9a6",
   "metadata": {},
   "source": [
    "np.asmatrix를 하기 전까진 matrix가 아니라 n차원 array취급이다."
   ]
  },
  {
   "cell_type": "code",
   "execution_count": 165,
   "id": "84668e74-1ab9-4923-98f0-43721ce53588",
   "metadata": {},
   "outputs": [
    {
     "data": {
      "text/plain": [
       "array([[4, 3, 6],\n",
       "       [7, 6, 3]], dtype=int8)"
      ]
     },
     "execution_count": 165,
     "metadata": {},
     "output_type": "execute_result"
    }
   ],
   "source": [
    "np.byte(m1)"
   ]
  },
  {
   "cell_type": "code",
   "execution_count": 166,
   "id": "89f51e45-7bf3-4b50-b1fb-b7dc256099fb",
   "metadata": {},
   "outputs": [
    {
     "data": {
      "text/plain": [
       "88"
      ]
     },
     "execution_count": 166,
     "metadata": {},
     "output_type": "execute_result"
    }
   ],
   "source": [
    "import sys\n",
    "sys.getsizeof([1,2,3])"
   ]
  },
  {
   "cell_type": "code",
   "execution_count": 172,
   "id": "e606d82b-75ce-4197-bce9-f4eaf26baefc",
   "metadata": {},
   "outputs": [],
   "source": [
    "r=range(1,100000000)"
   ]
  },
  {
   "cell_type": "code",
   "execution_count": 173,
   "id": "4092be18-216c-40ee-b0da-5aeb6649c1b0",
   "metadata": {},
   "outputs": [
    {
     "data": {
      "text/plain": [
       "48"
      ]
     },
     "execution_count": 173,
     "metadata": {},
     "output_type": "execute_result"
    }
   ],
   "source": [
    "sys.getsizeof(r)"
   ]
  },
  {
   "cell_type": "code",
   "execution_count": 174,
   "id": "8ad63404-c994-4e9b-9f31-02cca543a9b7",
   "metadata": {},
   "outputs": [],
   "source": [
    "r1=list(range(1,1000000))"
   ]
  },
  {
   "cell_type": "code",
   "execution_count": 175,
   "id": "f2b75dee-a3c4-48dc-b470-376c7ccbbd42",
   "metadata": {},
   "outputs": [
    {
     "data": {
      "text/plain": [
       "8000056"
      ]
     },
     "execution_count": 175,
     "metadata": {},
     "output_type": "execute_result"
    }
   ],
   "source": [
    "sys.getsizeof(r1)"
   ]
  },
  {
   "cell_type": "markdown",
   "id": "123b3b79-e3a7-40a1-93b2-9254de61889f",
   "metadata": {},
   "source": [
    "메모리 영향을 줄이기 위해서 제네레이터를 사용한다."
   ]
  },
  {
   "cell_type": "code",
   "execution_count": null,
   "id": "aea84be0-4496-4b0d-853e-a2f87a8c6056",
   "metadata": {},
   "outputs": [],
   "source": []
  },
  {
   "cell_type": "code",
   "execution_count": null,
   "id": "e6edbbd9-2378-483f-834b-034aa25de8b9",
   "metadata": {},
   "outputs": [],
   "source": []
  }
 ],
 "metadata": {
  "kernelspec": {
   "display_name": "Python 3 (ipykernel)",
   "language": "python",
   "name": "python3"
  },
  "language_info": {
   "codemirror_mode": {
    "name": "ipython",
    "version": 3
   },
   "file_extension": ".py",
   "mimetype": "text/x-python",
   "name": "python",
   "nbconvert_exporter": "python",
   "pygments_lexer": "ipython3",
   "version": "3.11.4"
  }
 },
 "nbformat": 4,
 "nbformat_minor": 5
}
