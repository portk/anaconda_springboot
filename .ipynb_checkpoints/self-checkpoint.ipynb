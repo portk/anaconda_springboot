{
 "cells": [
  {
   "cell_type": "code",
   "execution_count": 113,
   "id": "54f0cfd1-faf2-494e-b99d-828f2a3aabcb",
   "metadata": {},
   "outputs": [],
   "source": [
    "import numpy as np\n",
    "import pandas as pd\n",
    "from urllib.request import urlopen\n",
    "from bs4 import BeautifulSoup as soup"
   ]
  },
  {
   "cell_type": "code",
   "execution_count": 155,
   "id": "1fc8f7b2-61a4-47c2-be15-ee6babe05679",
   "metadata": {},
   "outputs": [],
   "source": [
    "bsu='https://www.yna.co.kr/industry/technology-science/'\n",
    "num=0\n",
    "links=[]\n",
    "yna=pd.DataFrame(columns=['Title','Text'])\n",
    "for num in range(20):\n",
    "    url = bsu+str(num+1)\n",
    "    html = urlopen(url)\n",
    "    bs = soup(html.read(),'html.parser')\n",
    "    atic_page = bs.find('div', attrs={'class':'list-type038'})\n",
    "    atic_list = atic_page.find_all('a', attrs={'class':\"tit-wrap\"})\n",
    "    for i in range(len(atic_list)):\n",
    "        links.append(atic_list[i].attrs['href'][2:])"
   ]
  },
  {
   "cell_type": "code",
   "execution_count": 162,
   "id": "1e0a7562-554e-4429-8a86-848f5d8fa610",
   "metadata": {},
   "outputs": [
    {
     "ename": "SyntaxError",
     "evalue": "cannot assign to literal here. Maybe you meant '==' instead of '='? (1807097116.py, line 11)",
     "output_type": "error",
     "traceback": [
      "\u001b[1;36m  Cell \u001b[1;32mIn[162], line 11\u001b[1;36m\u001b[0m\n\u001b[1;33m    'Title' = [title],\u001b[0m\n\u001b[1;37m    ^\u001b[0m\n\u001b[1;31mSyntaxError\u001b[0m\u001b[1;31m:\u001b[0m cannot assign to literal here. Maybe you meant '==' instead of '='?\n"
     ]
    }
   ],
   "source": [
    "for article in links:\n",
    "    html = urlopen('https://'+article)\n",
    "    bs = soup(html.read(),'html.parser')\n",
    "    title = bs.find('h1', attrs={'class':'tit'}).text\n",
    "    print(title,'기사를 처리중입니다.')\n",
    "    detail = ''\n",
    "    for i in bs.select('article > p'):\n",
    "        detail += (i.text+'\\n')\n",
    "    yna2 = pd.DataFrame({'Title' = [title],'Text' = detail})"
   ]
  },
  {
   "cell_type": "code",
   "execution_count": 157,
   "id": "0b1161e6-b286-4183-84a7-573be7ad8293",
   "metadata": {},
   "outputs": [
    {
     "data": {
      "text/html": [
       "<div>\n",
       "<style scoped>\n",
       "    .dataframe tbody tr th:only-of-type {\n",
       "        vertical-align: middle;\n",
       "    }\n",
       "\n",
       "    .dataframe tbody tr th {\n",
       "        vertical-align: top;\n",
       "    }\n",
       "\n",
       "    .dataframe thead th {\n",
       "        text-align: right;\n",
       "    }\n",
       "</style>\n",
       "<table border=\"1\" class=\"dataframe\">\n",
       "  <thead>\n",
       "    <tr style=\"text-align: right;\">\n",
       "      <th></th>\n",
       "      <th>Title</th>\n",
       "      <th>Text</th>\n",
       "    </tr>\n",
       "  </thead>\n",
       "  <tbody>\n",
       "    <tr>\n",
       "      <th>Title</th>\n",
       "      <td>[게시판] 넥슨-현대카드, '데이브 더 다이버' 협업 이벤트</td>\n",
       "      <td>[게시판] 넥슨-현대카드, '데이브 더 다이버' 협업 이벤트</td>\n",
       "    </tr>\n",
       "    <tr>\n",
       "      <th>Text</th>\n",
       "      <td>▲ 넥슨은 현대카드와 패키지 게임 '데이브 더 다이버' 협업 이벤트를 실시한다고 ...</td>\n",
       "      <td>▲ 넥슨은 현대카드와 패키지 게임 '데이브 더 다이버' 협업 이벤트를 실시한다고 ...</td>\n",
       "    </tr>\n",
       "  </tbody>\n",
       "</table>\n",
       "</div>"
      ],
      "text/plain": [
       "                                                   Title  \\\n",
       "Title                  [게시판] 넥슨-현대카드, '데이브 더 다이버' 협업 이벤트   \n",
       "Text    ▲ 넥슨은 현대카드와 패키지 게임 '데이브 더 다이버' 협업 이벤트를 실시한다고 ...   \n",
       "\n",
       "                                                    Text  \n",
       "Title                  [게시판] 넥슨-현대카드, '데이브 더 다이버' 협업 이벤트  \n",
       "Text    ▲ 넥슨은 현대카드와 패키지 게임 '데이브 더 다이버' 협업 이벤트를 실시한다고 ...  "
      ]
     },
     "execution_count": 157,
     "metadata": {},
     "output_type": "execute_result"
    }
   ],
   "source": [
    "yna"
   ]
  },
  {
   "cell_type": "code",
   "execution_count": null,
   "id": "492f69a1-35bb-47a2-908f-0e713b9d6660",
   "metadata": {},
   "outputs": [],
   "source": []
  }
 ],
 "metadata": {
  "kernelspec": {
   "display_name": "Python 3 (ipykernel)",
   "language": "python",
   "name": "python3"
  },
  "language_info": {
   "codemirror_mode": {
    "name": "ipython",
    "version": 3
   },
   "file_extension": ".py",
   "mimetype": "text/x-python",
   "name": "python",
   "nbconvert_exporter": "python",
   "pygments_lexer": "ipython3",
   "version": "3.11.4"
  }
 },
 "nbformat": 4,
 "nbformat_minor": 5
}
