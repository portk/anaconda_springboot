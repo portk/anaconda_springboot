{
 "cells": [
  {
   "cell_type": "code",
   "execution_count": 2,
   "id": "9792b031-661a-4d8b-927d-25788416a3ba",
   "metadata": {},
   "outputs": [],
   "source": [
    "import requests\n",
    "from bs4 import BeautifulSoup as bs"
   ]
  },
  {
   "cell_type": "code",
   "execution_count": 10,
   "id": "f5f4514e-372a-4afb-8631-75f31db4dd9e",
   "metadata": {},
   "outputs": [],
   "source": [
    "def get_page_cnt(isbn):\n",
    "    #url 지정\n",
    "    url = 'http://www.yes24.com/Product/Search?domain=BOOK&query={}'\n",
    "    r = requests.get(url.format(isbn))\n",
    "    #r.text로 html문서 전체 내용을 받아와 soup에 읽어서 저장\n",
    "    soup = bs(r.text,'html.parser')\n",
    "    #soup의 find메서드를 통해 <a>태그를 찾고 그 태그의 속성 calss가 gd_name인 것을 찾는다\n",
    "    #attrs란? attribute의 약어로 속성이라는 뜻을 가지고 있다.\n",
    "    #a라는 변수에 class를 저장하고 그 클래스 값이 gd_name이라는 뜻.\n",
    "    prd_info = soup.find('a',attrs={'class':'gd_name'})\n",
    "    #prd_info가 없으면 함수를 종료하며 빈 값을 반환하기 위한 코드\n",
    "    if prd_info == None:\n",
    "        return ''\n",
    "    #찾은 클래스의 href 값에서 하이퍼 링크를 가져온다\n",
    "    url = 'http://www.yes24.com'+prd_info['href']\n",
    "    #가져온 하이퍼 링크의 주소를 통해 접속을 요청한다.\n",
    "    r = requests.get(url)\n",
    "    #요청을 통해 받은 정보를 soup에 넣는다.\n",
    "    soup = bs(r.text, 'html.parser')\n",
    "    #div 태그를 찾아서 id 속성이 infoset_specific인 것을 찾는다.\n",
    "    prd_detail = soup.find('div',attrs = {'id':'infoset_specific'})\n",
    "    #위에서 찾은 태그 안에 속해있던 것중에 tr태그에 속한 것을 모두 찾는다.\n",
    "    prd_tr_list = prd_detail.find_all('tr')\n",
    "    #tr태그에 속한 내용에서 th태그에 속한 것을 찾아 내용을 받아온다.\n",
    "    for tr in prd_tr_list:\n",
    "    #그 값이 '쪽수, 무게, 크기'와 같다면 td태그를 찾는다\n",
    "        if tr.find('th').get_text() == '쪽수, 무게, 크기':\n",
    "        #td클래스에서 내용을 얻은 뒤 화이트스페이스를 기준으로 하여 쪼개서 그중에 첫번째 내용을 가져온다\n",
    "            return tr.find('td').get_text().split()[0]\n",
    "    #없으면 종료\n",
    "    return ''"
   ]
  },
  {
   "cell_type": "code",
   "execution_count": 11,
   "id": "44df97b2-21e8-4f7a-acd6-a25c51977487",
   "metadata": {},
   "outputs": [
    {
     "data": {
      "text/plain": [
       "'330쪽'"
      ]
     },
     "execution_count": 11,
     "metadata": {},
     "output_type": "execute_result"
    }
   ],
   "source": [
    "get_page_cnt(9791190090018)"
   ]
  },
  {
   "cell_type": "code",
   "execution_count": 15,
   "id": "79a53efa-9ce3-4243-a121-f24f7b22b396",
   "metadata": {},
   "outputs": [],
   "source": [
    "isbn = 9791190090018\n",
    "url = 'http://www.yes24.com/Product/Search?domain=BOOK&query={}'\n",
    "r = requests.get(url.format(isbn))"
   ]
  },
  {
   "cell_type": "code",
   "execution_count": 19,
   "id": "a40d0e85-133c-4544-ac36-37187f08eeab",
   "metadata": {},
   "outputs": [],
   "source": [
    "soup = bs(r.text,'html.parser')"
   ]
  },
  {
   "cell_type": "code",
   "execution_count": 23,
   "id": "97f94f91-8f9a-4ed2-b9f1-0fccdb5e1d61",
   "metadata": {},
   "outputs": [
    {
     "data": {
      "text/plain": [
       "<a class=\"gd_name\" href=\"/Product/Goods/74261416\" onclick=\"wiseLogV2('S', '101_005_003_001', ''); setGoodsClickExtraCodeHub('032', '9791190090018', '74261416', '0');\">우리가 빛의 속도로 갈 수 없다면</a>"
      ]
     },
     "execution_count": 23,
     "metadata": {},
     "output_type": "execute_result"
    }
   ],
   "source": [
    "soup.find('a', attrs={'class':'gd_name'})"
   ]
  },
  {
   "cell_type": "code",
   "execution_count": null,
   "id": "fb28d8f6-6340-45a4-b832-d13bce95e719",
   "metadata": {},
   "outputs": [],
   "source": []
  }
 ],
 "metadata": {
  "kernelspec": {
   "display_name": "Python 3 (ipykernel)",
   "language": "python",
   "name": "python3"
  },
  "language_info": {
   "codemirror_mode": {
    "name": "ipython",
    "version": 3
   },
   "file_extension": ".py",
   "mimetype": "text/x-python",
   "name": "python",
   "nbconvert_exporter": "python",
   "pygments_lexer": "ipython3",
   "version": "3.11.4"
  }
 },
 "nbformat": 4,
 "nbformat_minor": 5
}
