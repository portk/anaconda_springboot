{
 "cells": [
  {
   "cell_type": "code",
   "execution_count": 3,
   "id": "d11d90af-49ad-4408-b920-70ecdf0c2db2",
   "metadata": {},
   "outputs": [],
   "source": [
    "import pandas as pd\n",
    "import numpy as np"
   ]
  },
  {
   "cell_type": "code",
   "execution_count": 4,
   "id": "bc50f69b-f71a-4dc4-a486-defcbab4921d",
   "metadata": {},
   "outputs": [],
   "source": [
    "import gdown"
   ]
  },
  {
   "cell_type": "code",
   "execution_count": 5,
   "id": "1aa0985d-fa3a-4a7d-b469-edf8ba0c536b",
   "metadata": {},
   "outputs": [
    {
     "name": "stderr",
     "output_type": "stream",
     "text": [
      "Downloading...\n",
      "From: https://bit.ly/3RhoNho\n",
      "To: c:\\work\\ns_202104.csv\n",
      "100%|████████████████████████████████████████████████████████████████████| 57.6M/57.6M [00:06<00:00, 9.47MB/s]\n"
     ]
    },
    {
     "data": {
      "text/plain": [
       "'ns_202104.csv'"
      ]
     },
     "execution_count": 5,
     "metadata": {},
     "output_type": "execute_result"
    }
   ],
   "source": [
    "gdown.download('https://bit.ly/3RhoNho', 'ns_202104.csv', quiet=False)"
   ]
  },
  {
   "cell_type": "code",
   "execution_count": 84,
   "id": "7d567105-90ad-4bb7-88ed-268f7844e1e6",
   "metadata": {},
   "outputs": [
    {
     "name": "stderr",
     "output_type": "stream",
     "text": [
      "C:\\Users\\user\\AppData\\Local\\Temp\\ipykernel_10668\\369920610.py:1: DtypeWarning: Columns (5,6,9) have mixed types. Specify dtype option on import or set low_memory=False.\n",
      "  df = pd.read_csv('https://bit.ly/3RhoNho')\n"
     ]
    }
   ],
   "source": [
    "df = pd.read_csv('https://bit.ly/3RhoNho')"
   ]
  },
  {
   "cell_type": "code",
   "execution_count": 7,
   "id": "151dadf9-7d08-4880-96b7-03776d30be78",
   "metadata": {},
   "outputs": [
    {
     "data": {
      "text/html": [
       "<div>\n",
       "<style scoped>\n",
       "    .dataframe tbody tr th:only-of-type {\n",
       "        vertical-align: middle;\n",
       "    }\n",
       "\n",
       "    .dataframe tbody tr th {\n",
       "        vertical-align: top;\n",
       "    }\n",
       "\n",
       "    .dataframe thead th {\n",
       "        text-align: right;\n",
       "    }\n",
       "</style>\n",
       "<table border=\"1\" class=\"dataframe\">\n",
       "  <thead>\n",
       "    <tr style=\"text-align: right;\">\n",
       "      <th></th>\n",
       "      <th>번호</th>\n",
       "      <th>도서명</th>\n",
       "      <th>저자</th>\n",
       "      <th>출판사</th>\n",
       "      <th>발행년도</th>\n",
       "      <th>ISBN</th>\n",
       "      <th>세트 ISBN</th>\n",
       "      <th>부가기호</th>\n",
       "      <th>권</th>\n",
       "      <th>주제분류번호</th>\n",
       "      <th>도서권수</th>\n",
       "      <th>대출건수</th>\n",
       "      <th>등록일자</th>\n",
       "      <th>Unnamed: 13</th>\n",
       "    </tr>\n",
       "  </thead>\n",
       "  <tbody>\n",
       "    <tr>\n",
       "      <th>0</th>\n",
       "      <td>1</td>\n",
       "      <td>인공지능과 흙</td>\n",
       "      <td>김동훈 지음</td>\n",
       "      <td>민음사</td>\n",
       "      <td>2021</td>\n",
       "      <td>9788937444319</td>\n",
       "      <td>NaN</td>\n",
       "      <td>NaN</td>\n",
       "      <td>NaN</td>\n",
       "      <td>NaN</td>\n",
       "      <td>1</td>\n",
       "      <td>0</td>\n",
       "      <td>2021-03-19</td>\n",
       "      <td>NaN</td>\n",
       "    </tr>\n",
       "    <tr>\n",
       "      <th>1</th>\n",
       "      <td>2</td>\n",
       "      <td>가짜 행복 권하는 사회</td>\n",
       "      <td>김태형 지음</td>\n",
       "      <td>갈매나무</td>\n",
       "      <td>2021</td>\n",
       "      <td>9791190123969</td>\n",
       "      <td>NaN</td>\n",
       "      <td>NaN</td>\n",
       "      <td>NaN</td>\n",
       "      <td>NaN</td>\n",
       "      <td>1</td>\n",
       "      <td>0</td>\n",
       "      <td>2021-03-19</td>\n",
       "      <td>NaN</td>\n",
       "    </tr>\n",
       "    <tr>\n",
       "      <th>2</th>\n",
       "      <td>3</td>\n",
       "      <td>나도 한 문장 잘 쓰면 바랄 게 없겠네</td>\n",
       "      <td>김선영 지음</td>\n",
       "      <td>블랙피쉬</td>\n",
       "      <td>2021</td>\n",
       "      <td>9788968332982</td>\n",
       "      <td>NaN</td>\n",
       "      <td>NaN</td>\n",
       "      <td>NaN</td>\n",
       "      <td>NaN</td>\n",
       "      <td>1</td>\n",
       "      <td>0</td>\n",
       "      <td>2021-03-19</td>\n",
       "      <td>NaN</td>\n",
       "    </tr>\n",
       "    <tr>\n",
       "      <th>3</th>\n",
       "      <td>4</td>\n",
       "      <td>예루살렘 해변</td>\n",
       "      <td>이도 게펜 지음, 임재희 옮김</td>\n",
       "      <td>문학세계사</td>\n",
       "      <td>2021</td>\n",
       "      <td>9788970759906</td>\n",
       "      <td>NaN</td>\n",
       "      <td>NaN</td>\n",
       "      <td>NaN</td>\n",
       "      <td>NaN</td>\n",
       "      <td>1</td>\n",
       "      <td>0</td>\n",
       "      <td>2021-03-19</td>\n",
       "      <td>NaN</td>\n",
       "    </tr>\n",
       "    <tr>\n",
       "      <th>4</th>\n",
       "      <td>5</td>\n",
       "      <td>김성곤의 중국한시기행 : 장강·황하 편</td>\n",
       "      <td>김성곤 지음</td>\n",
       "      <td>김영사</td>\n",
       "      <td>2021</td>\n",
       "      <td>9788934990833</td>\n",
       "      <td>NaN</td>\n",
       "      <td>NaN</td>\n",
       "      <td>NaN</td>\n",
       "      <td>NaN</td>\n",
       "      <td>1</td>\n",
       "      <td>0</td>\n",
       "      <td>2021-03-19</td>\n",
       "      <td>NaN</td>\n",
       "    </tr>\n",
       "  </tbody>\n",
       "</table>\n",
       "</div>"
      ],
      "text/plain": [
       "   번호                    도서명                저자    출판사  발행년도           ISBN  \\\n",
       "0   1                인공지능과 흙            김동훈 지음    민음사  2021  9788937444319   \n",
       "1   2           가짜 행복 권하는 사회            김태형 지음   갈매나무  2021  9791190123969   \n",
       "2   3  나도 한 문장 잘 쓰면 바랄 게 없겠네            김선영 지음   블랙피쉬  2021  9788968332982   \n",
       "3   4                예루살렘 해변  이도 게펜 지음, 임재희 옮김  문학세계사  2021  9788970759906   \n",
       "4   5  김성곤의 중국한시기행 : 장강·황하 편            김성곤 지음    김영사  2021  9788934990833   \n",
       "\n",
       "  세트 ISBN 부가기호    권 주제분류번호  도서권수  대출건수        등록일자  Unnamed: 13  \n",
       "0     NaN  NaN  NaN    NaN     1     0  2021-03-19          NaN  \n",
       "1     NaN  NaN  NaN    NaN     1     0  2021-03-19          NaN  \n",
       "2     NaN  NaN  NaN    NaN     1     0  2021-03-19          NaN  \n",
       "3     NaN  NaN  NaN    NaN     1     0  2021-03-19          NaN  \n",
       "4     NaN  NaN  NaN    NaN     1     0  2021-03-19          NaN  "
      ]
     },
     "execution_count": 7,
     "metadata": {},
     "output_type": "execute_result"
    }
   ],
   "source": [
    "df.head()"
   ]
  },
  {
   "cell_type": "code",
   "execution_count": 8,
   "id": "818bbc52-21ea-4edb-8b5c-e3305df97876",
   "metadata": {},
   "outputs": [
    {
     "data": {
      "text/plain": [
       "(401682, 14)"
      ]
     },
     "execution_count": 8,
     "metadata": {},
     "output_type": "execute_result"
    }
   ],
   "source": [
    "df.shape"
   ]
  },
  {
   "cell_type": "raw",
   "id": "978c69dc-7dba-499a-99ed-33b8ae8c6b10",
   "metadata": {},
   "source": [
    "시작:가져오고자 하는 곳"
   ]
  },
  {
   "cell_type": "code",
   "execution_count": 9,
   "id": "b507d19b-3aef-49b8-ac5b-1c2fb7577ab6",
   "metadata": {},
   "outputs": [
    {
     "data": {
      "text/plain": [
       "13"
      ]
     },
     "execution_count": 9,
     "metadata": {},
     "output_type": "execute_result"
    }
   ],
   "source": [
    "len(df.columns)\n",
    "df.shape[1]\n",
    "df.columns.size-1"
   ]
  },
  {
   "cell_type": "code",
   "execution_count": 10,
   "id": "a849e5cb-4e43-4410-b2c1-11e4ad5f96c9",
   "metadata": {},
   "outputs": [
    {
     "data": {
      "text/plain": [
       "Index(['번호', '도서명', '저자', '출판사', '발행년도', 'ISBN', '세트 ISBN', '부가기호', '권',\n",
       "       '주제분류번호', '도서권수', '대출건수', '등록일자'],\n",
       "      dtype='object')"
      ]
     },
     "execution_count": 10,
     "metadata": {},
     "output_type": "execute_result"
    }
   ],
   "source": [
    "df.columns[:-1]"
   ]
  },
  {
   "cell_type": "code",
   "execution_count": 63,
   "id": "ba5b004c-b0eb-4000-a023-7a603a024c78",
   "metadata": {},
   "outputs": [
    {
     "data": {
      "text/html": [
       "<div>\n",
       "<style scoped>\n",
       "    .dataframe tbody tr th:only-of-type {\n",
       "        vertical-align: middle;\n",
       "    }\n",
       "\n",
       "    .dataframe tbody tr th {\n",
       "        vertical-align: top;\n",
       "    }\n",
       "\n",
       "    .dataframe thead th {\n",
       "        text-align: right;\n",
       "    }\n",
       "</style>\n",
       "<table border=\"1\" class=\"dataframe\">\n",
       "  <thead>\n",
       "    <tr style=\"text-align: right;\">\n",
       "      <th></th>\n",
       "      <th>번호</th>\n",
       "      <th>도서명</th>\n",
       "      <th>저자</th>\n",
       "      <th>출판사</th>\n",
       "      <th>발행년도</th>\n",
       "      <th>ISBN</th>\n",
       "      <th>세트 ISBN</th>\n",
       "      <th>부가기호</th>\n",
       "      <th>권</th>\n",
       "      <th>주제분류번호</th>\n",
       "      <th>도서권수</th>\n",
       "      <th>대출건수</th>\n",
       "      <th>등록일자</th>\n",
       "    </tr>\n",
       "  </thead>\n",
       "  <tbody>\n",
       "    <tr>\n",
       "      <th>0</th>\n",
       "      <td>1</td>\n",
       "      <td>인공지능과 흙</td>\n",
       "      <td>김동훈 지음</td>\n",
       "      <td>민음사</td>\n",
       "      <td>2021</td>\n",
       "      <td>9788937444319</td>\n",
       "      <td>NaN</td>\n",
       "      <td>NaN</td>\n",
       "      <td>NaN</td>\n",
       "      <td>NaN</td>\n",
       "      <td>1</td>\n",
       "      <td>0</td>\n",
       "      <td>2021-03-19</td>\n",
       "    </tr>\n",
       "    <tr>\n",
       "      <th>1</th>\n",
       "      <td>2</td>\n",
       "      <td>가짜 행복 권하는 사회</td>\n",
       "      <td>김태형 지음</td>\n",
       "      <td>갈매나무</td>\n",
       "      <td>2021</td>\n",
       "      <td>9791190123969</td>\n",
       "      <td>NaN</td>\n",
       "      <td>NaN</td>\n",
       "      <td>NaN</td>\n",
       "      <td>NaN</td>\n",
       "      <td>1</td>\n",
       "      <td>0</td>\n",
       "      <td>2021-03-19</td>\n",
       "    </tr>\n",
       "    <tr>\n",
       "      <th>2</th>\n",
       "      <td>3</td>\n",
       "      <td>나도 한 문장 잘 쓰면 바랄 게 없겠네</td>\n",
       "      <td>김선영 지음</td>\n",
       "      <td>블랙피쉬</td>\n",
       "      <td>2021</td>\n",
       "      <td>9788968332982</td>\n",
       "      <td>NaN</td>\n",
       "      <td>NaN</td>\n",
       "      <td>NaN</td>\n",
       "      <td>NaN</td>\n",
       "      <td>1</td>\n",
       "      <td>0</td>\n",
       "      <td>2021-03-19</td>\n",
       "    </tr>\n",
       "    <tr>\n",
       "      <th>3</th>\n",
       "      <td>4</td>\n",
       "      <td>예루살렘 해변</td>\n",
       "      <td>이도 게펜 지음, 임재희 옮김</td>\n",
       "      <td>문학세계사</td>\n",
       "      <td>2021</td>\n",
       "      <td>9788970759906</td>\n",
       "      <td>NaN</td>\n",
       "      <td>NaN</td>\n",
       "      <td>NaN</td>\n",
       "      <td>NaN</td>\n",
       "      <td>1</td>\n",
       "      <td>0</td>\n",
       "      <td>2021-03-19</td>\n",
       "    </tr>\n",
       "    <tr>\n",
       "      <th>4</th>\n",
       "      <td>5</td>\n",
       "      <td>김성곤의 중국한시기행 : 장강·황하 편</td>\n",
       "      <td>김성곤 지음</td>\n",
       "      <td>김영사</td>\n",
       "      <td>2021</td>\n",
       "      <td>9788934990833</td>\n",
       "      <td>NaN</td>\n",
       "      <td>NaN</td>\n",
       "      <td>NaN</td>\n",
       "      <td>NaN</td>\n",
       "      <td>1</td>\n",
       "      <td>0</td>\n",
       "      <td>2021-03-19</td>\n",
       "    </tr>\n",
       "  </tbody>\n",
       "</table>\n",
       "</div>"
      ],
      "text/plain": [
       "   번호                    도서명                저자    출판사  발행년도           ISBN  \\\n",
       "0   1                인공지능과 흙            김동훈 지음    민음사  2021  9788937444319   \n",
       "1   2           가짜 행복 권하는 사회            김태형 지음   갈매나무  2021  9791190123969   \n",
       "2   3  나도 한 문장 잘 쓰면 바랄 게 없겠네            김선영 지음   블랙피쉬  2021  9788968332982   \n",
       "3   4                예루살렘 해변  이도 게펜 지음, 임재희 옮김  문학세계사  2021  9788970759906   \n",
       "4   5  김성곤의 중국한시기행 : 장강·황하 편            김성곤 지음    김영사  2021  9788934990833   \n",
       "\n",
       "  세트 ISBN 부가기호    권 주제분류번호  도서권수  대출건수        등록일자  \n",
       "0     NaN  NaN  NaN    NaN     1     0  2021-03-19  \n",
       "1     NaN  NaN  NaN    NaN     1     0  2021-03-19  \n",
       "2     NaN  NaN  NaN    NaN     1     0  2021-03-19  \n",
       "3     NaN  NaN  NaN    NaN     1     0  2021-03-19  \n",
       "4     NaN  NaN  NaN    NaN     1     0  2021-03-19  "
      ]
     },
     "execution_count": 63,
     "metadata": {},
     "output_type": "execute_result"
    }
   ],
   "source": [
    "df.iloc[:,:-1].head()\n",
    "df.iloc[:,:13].head()\n",
    "df.iloc[:,:df.columns.size-1].head()\n",
    "df.iloc[:,np.arange(13)].head()\n",
    "df.loc[:,'번호':'등록일자'].head()\n",
    "df.loc[:,df.columns[:-1]].head()\n",
    "df.loc[:,[True]*13+[False]].head()\n",
    "df.loc[:,df.columns != df.columns[-1]].head()\n",
    "df.loc[:,~(df.columns == df.columns[-1])].head()\n",
    "df.drop(columns = ['Unnamed: 13']).head()\n",
    "df.drop(columns = df.columns[-1]).head()\n"
   ]
  },
  {
   "cell_type": "code",
   "execution_count": 85,
   "id": "a9da8a62-1cb6-48f6-a1cd-96c273dac4f2",
   "metadata": {},
   "outputs": [
    {
     "data": {
      "text/html": [
       "<div>\n",
       "<style scoped>\n",
       "    .dataframe tbody tr th:only-of-type {\n",
       "        vertical-align: middle;\n",
       "    }\n",
       "\n",
       "    .dataframe tbody tr th {\n",
       "        vertical-align: top;\n",
       "    }\n",
       "\n",
       "    .dataframe thead th {\n",
       "        text-align: right;\n",
       "    }\n",
       "</style>\n",
       "<table border=\"1\" class=\"dataframe\">\n",
       "  <thead>\n",
       "    <tr style=\"text-align: right;\">\n",
       "      <th></th>\n",
       "      <th>번호</th>\n",
       "      <th>도서명</th>\n",
       "      <th>저자</th>\n",
       "      <th>출판사</th>\n",
       "      <th>발행년도</th>\n",
       "      <th>ISBN</th>\n",
       "      <th>세트 ISBN</th>\n",
       "      <th>부가기호</th>\n",
       "      <th>권</th>\n",
       "      <th>주제분류번호</th>\n",
       "      <th>도서권수</th>\n",
       "      <th>대출건수</th>\n",
       "      <th>등록일자</th>\n",
       "    </tr>\n",
       "  </thead>\n",
       "  <tbody>\n",
       "    <tr>\n",
       "      <th>0</th>\n",
       "      <td>1</td>\n",
       "      <td>인공지능과 흙</td>\n",
       "      <td>김동훈 지음</td>\n",
       "      <td>민음사</td>\n",
       "      <td>2021</td>\n",
       "      <td>9788937444319</td>\n",
       "      <td>NaN</td>\n",
       "      <td>NaN</td>\n",
       "      <td>NaN</td>\n",
       "      <td>NaN</td>\n",
       "      <td>1</td>\n",
       "      <td>0</td>\n",
       "      <td>2021-03-19</td>\n",
       "    </tr>\n",
       "    <tr>\n",
       "      <th>1</th>\n",
       "      <td>2</td>\n",
       "      <td>가짜 행복 권하는 사회</td>\n",
       "      <td>김태형 지음</td>\n",
       "      <td>갈매나무</td>\n",
       "      <td>2021</td>\n",
       "      <td>9791190123969</td>\n",
       "      <td>NaN</td>\n",
       "      <td>NaN</td>\n",
       "      <td>NaN</td>\n",
       "      <td>NaN</td>\n",
       "      <td>1</td>\n",
       "      <td>0</td>\n",
       "      <td>2021-03-19</td>\n",
       "    </tr>\n",
       "    <tr>\n",
       "      <th>2</th>\n",
       "      <td>3</td>\n",
       "      <td>나도 한 문장 잘 쓰면 바랄 게 없겠네</td>\n",
       "      <td>김선영 지음</td>\n",
       "      <td>블랙피쉬</td>\n",
       "      <td>2021</td>\n",
       "      <td>9788968332982</td>\n",
       "      <td>NaN</td>\n",
       "      <td>NaN</td>\n",
       "      <td>NaN</td>\n",
       "      <td>NaN</td>\n",
       "      <td>1</td>\n",
       "      <td>0</td>\n",
       "      <td>2021-03-19</td>\n",
       "    </tr>\n",
       "    <tr>\n",
       "      <th>3</th>\n",
       "      <td>4</td>\n",
       "      <td>예루살렘 해변</td>\n",
       "      <td>이도 게펜 지음, 임재희 옮김</td>\n",
       "      <td>문학세계사</td>\n",
       "      <td>2021</td>\n",
       "      <td>9788970759906</td>\n",
       "      <td>NaN</td>\n",
       "      <td>NaN</td>\n",
       "      <td>NaN</td>\n",
       "      <td>NaN</td>\n",
       "      <td>1</td>\n",
       "      <td>0</td>\n",
       "      <td>2021-03-19</td>\n",
       "    </tr>\n",
       "    <tr>\n",
       "      <th>4</th>\n",
       "      <td>5</td>\n",
       "      <td>김성곤의 중국한시기행 : 장강·황하 편</td>\n",
       "      <td>김성곤 지음</td>\n",
       "      <td>김영사</td>\n",
       "      <td>2021</td>\n",
       "      <td>9788934990833</td>\n",
       "      <td>NaN</td>\n",
       "      <td>NaN</td>\n",
       "      <td>NaN</td>\n",
       "      <td>NaN</td>\n",
       "      <td>1</td>\n",
       "      <td>0</td>\n",
       "      <td>2021-03-19</td>\n",
       "    </tr>\n",
       "  </tbody>\n",
       "</table>\n",
       "</div>"
      ],
      "text/plain": [
       "   번호                    도서명                저자    출판사  발행년도           ISBN  \\\n",
       "0   1                인공지능과 흙            김동훈 지음    민음사  2021  9788937444319   \n",
       "1   2           가짜 행복 권하는 사회            김태형 지음   갈매나무  2021  9791190123969   \n",
       "2   3  나도 한 문장 잘 쓰면 바랄 게 없겠네            김선영 지음   블랙피쉬  2021  9788968332982   \n",
       "3   4                예루살렘 해변  이도 게펜 지음, 임재희 옮김  문학세계사  2021  9788970759906   \n",
       "4   5  김성곤의 중국한시기행 : 장강·황하 편            김성곤 지음    김영사  2021  9788934990833   \n",
       "\n",
       "  세트 ISBN 부가기호    권 주제분류번호  도서권수  대출건수        등록일자  \n",
       "0     NaN  NaN  NaN    NaN     1     0  2021-03-19  \n",
       "1     NaN  NaN  NaN    NaN     1     0  2021-03-19  \n",
       "2     NaN  NaN  NaN    NaN     1     0  2021-03-19  \n",
       "3     NaN  NaN  NaN    NaN     1     0  2021-03-19  \n",
       "4     NaN  NaN  NaN    NaN     1     0  2021-03-19  "
      ]
     },
     "execution_count": 85,
     "metadata": {},
     "output_type": "execute_result"
    }
   ],
   "source": [
    "df.drop(df.columns[-1],axis = 1, inplace = True)\n",
    "df.head()"
   ]
  },
  {
   "cell_type": "code",
   "execution_count": 13,
   "id": "470434a1-ff09-4632-abfd-66c34bc2c490",
   "metadata": {},
   "outputs": [
    {
     "data": {
      "text/html": [
       "<div>\n",
       "<style scoped>\n",
       "    .dataframe tbody tr th:only-of-type {\n",
       "        vertical-align: middle;\n",
       "    }\n",
       "\n",
       "    .dataframe tbody tr th {\n",
       "        vertical-align: top;\n",
       "    }\n",
       "\n",
       "    .dataframe thead th {\n",
       "        text-align: right;\n",
       "    }\n",
       "</style>\n",
       "<table border=\"1\" class=\"dataframe\">\n",
       "  <thead>\n",
       "    <tr style=\"text-align: right;\">\n",
       "      <th></th>\n",
       "      <th>0</th>\n",
       "    </tr>\n",
       "  </thead>\n",
       "  <tbody>\n",
       "    <tr>\n",
       "      <th>2</th>\n",
       "      <td>1</td>\n",
       "    </tr>\n",
       "    <tr>\n",
       "      <th>3</th>\n",
       "      <td>2</td>\n",
       "    </tr>\n",
       "  </tbody>\n",
       "</table>\n",
       "</div>"
      ],
      "text/plain": [
       "   0\n",
       "2  1\n",
       "3  2"
      ]
     },
     "execution_count": 13,
     "metadata": {},
     "output_type": "execute_result"
    }
   ],
   "source": [
    "df.dropna()\n",
    "#null, None, NaN, na\n",
    "#null == '', None == empty, NaN == Not a Number, na == Not Acceptible\n",
    "pd.Series(np.array([np.nan, None, 1, 2]))\n",
    "pd.DataFrame(np.array([np.nan, None, 1, 2])).isna()\n",
    "pd.DataFrame(np.array([np.nan, None, 1, 2])).isnull()\n",
    "pd.DataFrame(np.array([np.nan, None, 1, 2])).dropna()"
   ]
  },
  {
   "cell_type": "code",
   "execution_count": 14,
   "id": "6b7f56d1-c60e-4147-ba02-b2a0ee9f3058",
   "metadata": {},
   "outputs": [
    {
     "data": {
      "text/plain": [
       "번호              0\n",
       "도서명           403\n",
       "저자            201\n",
       "출판사          4795\n",
       "발행년도           17\n",
       "ISBN            0\n",
       "세트 ISBN    339811\n",
       "부가기호        76648\n",
       "권          333415\n",
       "주제분류번호      20322\n",
       "도서권수            0\n",
       "대출건수            0\n",
       "등록일자            0\n",
       "dtype: int64"
      ]
     },
     "execution_count": 14,
     "metadata": {},
     "output_type": "execute_result"
    }
   ],
   "source": [
    "df.isna().sum()"
   ]
  },
  {
   "cell_type": "code",
   "execution_count": 15,
   "id": "abbdff08-0280-4376-942b-1b7fea60cf21",
   "metadata": {},
   "outputs": [
    {
     "data": {
      "text/plain": [
       "365855"
      ]
     },
     "execution_count": 15,
     "metadata": {},
     "output_type": "execute_result"
    }
   ],
   "source": [
    "df.shape[0] - df.dropna().shape[0]"
   ]
  },
  {
   "cell_type": "code",
   "execution_count": 16,
   "id": "d36d8de8-4393-42f1-bc6a-8cb122344026",
   "metadata": {},
   "outputs": [
    {
     "data": {
      "text/plain": [
       "8"
      ]
     },
     "execution_count": 16,
     "metadata": {},
     "output_type": "execute_result"
    }
   ],
   "source": [
    "df.shape[1] - df.dropna(axis=1).shape[1]"
   ]
  },
  {
   "cell_type": "code",
   "execution_count": 17,
   "id": "4e000f10-5d24-402a-ae8e-2a162459aa39",
   "metadata": {},
   "outputs": [
    {
     "data": {
      "text/plain": [
       "35827"
      ]
     },
     "execution_count": 17,
     "metadata": {},
     "output_type": "execute_result"
    }
   ],
   "source": [
    "df.dropna(how='any').shape[0]"
   ]
  },
  {
   "cell_type": "code",
   "execution_count": 18,
   "id": "e397c640-174c-4aed-8970-cfbd0b18b3db",
   "metadata": {},
   "outputs": [
    {
     "data": {
      "text/plain": [
       "401682"
      ]
     },
     "execution_count": 18,
     "metadata": {},
     "output_type": "execute_result"
    }
   ],
   "source": [
    "df.dropna(how='all').shape[0]"
   ]
  },
  {
   "cell_type": "code",
   "execution_count": 19,
   "id": "4ade224a-181e-4912-b2cf-874f0e9624e0",
   "metadata": {},
   "outputs": [
    {
     "data": {
      "text/plain": [
       "401682"
      ]
     },
     "execution_count": 19,
     "metadata": {},
     "output_type": "execute_result"
    }
   ],
   "source": [
    "df.dropna(how='all',axis=1).shape[0]"
   ]
  },
  {
   "cell_type": "code",
   "execution_count": 20,
   "id": "01d62861-dd0e-4910-9367-130d52928cf2",
   "metadata": {},
   "outputs": [
    {
     "data": {
      "text/plain": [
       "401682"
      ]
     },
     "execution_count": 20,
     "metadata": {},
     "output_type": "execute_result"
    }
   ],
   "source": [
    "df.dropna(thresh=2).shape[0]"
   ]
  },
  {
   "cell_type": "code",
   "execution_count": 86,
   "id": "8130f1f9-1429-42aa-8c87-c516bede1785",
   "metadata": {},
   "outputs": [],
   "source": [
    "## 컬럼이 na가 70% 이상인 컬럼을 지우고\n",
    "## 행이 na가 20% 이상인 행을 지우고 남은 na의 갯수를 구하면?\n",
    "new_df = df.drop(columns = df.columns[(df.isna().sum() / df.shape[0]) > 0.7]) #지울 컬럼 이름 찾기"
   ]
  },
  {
   "cell_type": "code",
   "execution_count": 87,
   "id": "70893e12-5e9f-4959-b150-856fc4509238",
   "metadata": {},
   "outputs": [
    {
     "data": {
      "text/plain": [
       "0         False\n",
       "1         False\n",
       "2         False\n",
       "3         False\n",
       "4         False\n",
       "          ...  \n",
       "401677    False\n",
       "401678    False\n",
       "401679    False\n",
       "401680    False\n",
       "401681    False\n",
       "Length: 401682, dtype: bool"
      ]
     },
     "execution_count": 87,
     "metadata": {},
     "output_type": "execute_result"
    }
   ],
   "source": [
    "remove_row = ((new_df.isna().sum(axis=1) / df.shape[1]) > 0.2)\n",
    "remove_row"
   ]
  },
  {
   "cell_type": "code",
   "execution_count": 88,
   "id": "1a07c559-7402-4a71-9931-6f0754dec08b",
   "metadata": {},
   "outputs": [
    {
     "data": {
      "text/html": [
       "<div>\n",
       "<style scoped>\n",
       "    .dataframe tbody tr th:only-of-type {\n",
       "        vertical-align: middle;\n",
       "    }\n",
       "\n",
       "    .dataframe tbody tr th {\n",
       "        vertical-align: top;\n",
       "    }\n",
       "\n",
       "    .dataframe thead th {\n",
       "        text-align: right;\n",
       "    }\n",
       "</style>\n",
       "<table border=\"1\" class=\"dataframe\">\n",
       "  <thead>\n",
       "    <tr style=\"text-align: right;\">\n",
       "      <th></th>\n",
       "      <th>번호</th>\n",
       "      <th>도서명</th>\n",
       "      <th>저자</th>\n",
       "      <th>출판사</th>\n",
       "      <th>발행년도</th>\n",
       "      <th>ISBN</th>\n",
       "      <th>세트 ISBN</th>\n",
       "      <th>부가기호</th>\n",
       "      <th>권</th>\n",
       "      <th>주제분류번호</th>\n",
       "      <th>도서권수</th>\n",
       "      <th>대출건수</th>\n",
       "      <th>등록일자</th>\n",
       "    </tr>\n",
       "  </thead>\n",
       "  <tbody>\n",
       "    <tr>\n",
       "      <th>277</th>\n",
       "      <td>278</td>\n",
       "      <td>골목의 시간을 그리다</td>\n",
       "      <td>정명섭.김효찬 지음</td>\n",
       "      <td>NaN</td>\n",
       "      <td>2021</td>\n",
       "      <td>9791191266054</td>\n",
       "      <td>NaN</td>\n",
       "      <td>NaN</td>\n",
       "      <td>NaN</td>\n",
       "      <td>NaN</td>\n",
       "      <td>1</td>\n",
       "      <td>0</td>\n",
       "      <td>2021-03-12</td>\n",
       "    </tr>\n",
       "    <tr>\n",
       "      <th>366</th>\n",
       "      <td>367</td>\n",
       "      <td>한국인의 맛</td>\n",
       "      <td>정명섭 지음</td>\n",
       "      <td>NaN</td>\n",
       "      <td>2021</td>\n",
       "      <td>9791155401804</td>\n",
       "      <td>NaN</td>\n",
       "      <td>NaN</td>\n",
       "      <td>NaN</td>\n",
       "      <td>NaN</td>\n",
       "      <td>1</td>\n",
       "      <td>0</td>\n",
       "      <td>2021-03-12</td>\n",
       "    </tr>\n",
       "    <tr>\n",
       "      <th>551</th>\n",
       "      <td>552</td>\n",
       "      <td>한성부, 달 밝은 밤에</td>\n",
       "      <td>김이삭 지음</td>\n",
       "      <td>NaN</td>\n",
       "      <td>2021</td>\n",
       "      <td>9791163161479</td>\n",
       "      <td>NaN</td>\n",
       "      <td>NaN</td>\n",
       "      <td>NaN</td>\n",
       "      <td>NaN</td>\n",
       "      <td>1</td>\n",
       "      <td>0</td>\n",
       "      <td>2021-03-12</td>\n",
       "    </tr>\n",
       "    <tr>\n",
       "      <th>619</th>\n",
       "      <td>620</td>\n",
       "      <td>100일 완성 마그마 러시아어 중고급 단어장</td>\n",
       "      <td>러포자 구제 연구소 외 지음</td>\n",
       "      <td>NaN</td>\n",
       "      <td>2021</td>\n",
       "      <td>9788974829193</td>\n",
       "      <td>NaN</td>\n",
       "      <td>NaN</td>\n",
       "      <td>NaN</td>\n",
       "      <td>NaN</td>\n",
       "      <td>1</td>\n",
       "      <td>0</td>\n",
       "      <td>2021-03-12</td>\n",
       "    </tr>\n",
       "    <tr>\n",
       "      <th>658</th>\n",
       "      <td>659</td>\n",
       "      <td>수채 과슈로 그리는 나의 반려식물</td>\n",
       "      <td>송현미 지음</td>\n",
       "      <td>NaN</td>\n",
       "      <td>2021</td>\n",
       "      <td>9791187616986</td>\n",
       "      <td>NaN</td>\n",
       "      <td>NaN</td>\n",
       "      <td>NaN</td>\n",
       "      <td>NaN</td>\n",
       "      <td>1</td>\n",
       "      <td>0</td>\n",
       "      <td>2021-03-12</td>\n",
       "    </tr>\n",
       "    <tr>\n",
       "      <th>...</th>\n",
       "      <td>...</td>\n",
       "      <td>...</td>\n",
       "      <td>...</td>\n",
       "      <td>...</td>\n",
       "      <td>...</td>\n",
       "      <td>...</td>\n",
       "      <td>...</td>\n",
       "      <td>...</td>\n",
       "      <td>...</td>\n",
       "      <td>...</td>\n",
       "      <td>...</td>\n",
       "      <td>...</td>\n",
       "      <td>...</td>\n",
       "    </tr>\n",
       "    <tr>\n",
       "      <th>400367</th>\n",
       "      <td>400368</td>\n",
       "      <td>아무도 모를거야 내가 누군지</td>\n",
       "      <td>김향금 글 ; 이혜리 그림</td>\n",
       "      <td>NaN</td>\n",
       "      <td>1999</td>\n",
       "      <td>9788943303483</td>\n",
       "      <td>NaN</td>\n",
       "      <td>NaN</td>\n",
       "      <td>NaN</td>\n",
       "      <td>NaN</td>\n",
       "      <td>1</td>\n",
       "      <td>0</td>\n",
       "      <td>1970-01-01</td>\n",
       "    </tr>\n",
       "    <tr>\n",
       "      <th>400374</th>\n",
       "      <td>400375</td>\n",
       "      <td>바람과 물</td>\n",
       "      <td>임억규</td>\n",
       "      <td>NaN</td>\n",
       "      <td>2011</td>\n",
       "      <td>9788989358855</td>\n",
       "      <td>NaN</td>\n",
       "      <td>NaN</td>\n",
       "      <td>NaN</td>\n",
       "      <td>NaN</td>\n",
       "      <td>1</td>\n",
       "      <td>0</td>\n",
       "      <td>1970-01-01</td>\n",
       "    </tr>\n",
       "    <tr>\n",
       "      <th>400375</th>\n",
       "      <td>400376</td>\n",
       "      <td>자기분석</td>\n",
       "      <td>L. 론 허버드</td>\n",
       "      <td>NaN</td>\n",
       "      <td>2009</td>\n",
       "      <td>9781403172662</td>\n",
       "      <td>NaN</td>\n",
       "      <td>NaN</td>\n",
       "      <td>NaN</td>\n",
       "      <td>NaN</td>\n",
       "      <td>2</td>\n",
       "      <td>0</td>\n",
       "      <td>1970-01-01</td>\n",
       "    </tr>\n",
       "    <tr>\n",
       "      <th>400395</th>\n",
       "      <td>400396</td>\n",
       "      <td>인천문화예술연감</td>\n",
       "      <td>인천문화재단</td>\n",
       "      <td>NaN</td>\n",
       "      <td>2010</td>\n",
       "      <td>9788992678278</td>\n",
       "      <td>NaN</td>\n",
       "      <td>NaN</td>\n",
       "      <td>2009</td>\n",
       "      <td>NaN</td>\n",
       "      <td>1</td>\n",
       "      <td>0</td>\n",
       "      <td>1970-01-01</td>\n",
       "    </tr>\n",
       "    <tr>\n",
       "      <th>400408</th>\n",
       "      <td>400409</td>\n",
       "      <td>걸어오길 잘했어요</td>\n",
       "      <td>전세중</td>\n",
       "      <td>NaN</td>\n",
       "      <td>2010</td>\n",
       "      <td>3000000000182</td>\n",
       "      <td>NaN</td>\n",
       "      <td>NaN</td>\n",
       "      <td>NaN</td>\n",
       "      <td>NaN</td>\n",
       "      <td>1</td>\n",
       "      <td>0</td>\n",
       "      <td>1970-01-01</td>\n",
       "    </tr>\n",
       "  </tbody>\n",
       "</table>\n",
       "<p>607 rows × 13 columns</p>\n",
       "</div>"
      ],
      "text/plain": [
       "            번호                       도서명               저자  출판사  발행년도  \\\n",
       "277        278               골목의 시간을 그리다       정명섭.김효찬 지음  NaN  2021   \n",
       "366        367                    한국인의 맛           정명섭 지음  NaN  2021   \n",
       "551        552              한성부, 달 밝은 밤에           김이삭 지음  NaN  2021   \n",
       "619        620  100일 완성 마그마 러시아어 중고급 단어장  러포자 구제 연구소 외 지음  NaN  2021   \n",
       "658        659        수채 과슈로 그리는 나의 반려식물           송현미 지음  NaN  2021   \n",
       "...        ...                       ...              ...  ...   ...   \n",
       "400367  400368           아무도 모를거야 내가 누군지   김향금 글 ; 이혜리 그림  NaN  1999   \n",
       "400374  400375                     바람과 물              임억규  NaN  2011   \n",
       "400375  400376                      자기분석         L. 론 허버드  NaN  2009   \n",
       "400395  400396                  인천문화예술연감           인천문화재단  NaN  2010   \n",
       "400408  400409                 걸어오길 잘했어요              전세중  NaN  2010   \n",
       "\n",
       "                 ISBN 세트 ISBN 부가기호     권 주제분류번호  도서권수  대출건수        등록일자  \n",
       "277     9791191266054     NaN  NaN   NaN    NaN     1     0  2021-03-12  \n",
       "366     9791155401804     NaN  NaN   NaN    NaN     1     0  2021-03-12  \n",
       "551     9791163161479     NaN  NaN   NaN    NaN     1     0  2021-03-12  \n",
       "619     9788974829193     NaN  NaN   NaN    NaN     1     0  2021-03-12  \n",
       "658     9791187616986     NaN  NaN   NaN    NaN     1     0  2021-03-12  \n",
       "...               ...     ...  ...   ...    ...   ...   ...         ...  \n",
       "400367  9788943303483     NaN  NaN   NaN    NaN     1     0  1970-01-01  \n",
       "400374  9788989358855     NaN  NaN   NaN    NaN     1     0  1970-01-01  \n",
       "400375  9781403172662     NaN  NaN   NaN    NaN     2     0  1970-01-01  \n",
       "400395  9788992678278     NaN  NaN  2009    NaN     1     0  1970-01-01  \n",
       "400408  3000000000182     NaN  NaN   NaN    NaN     1     0  1970-01-01  \n",
       "\n",
       "[607 rows x 13 columns]"
      ]
     },
     "execution_count": 88,
     "metadata": {},
     "output_type": "execute_result"
    }
   ],
   "source": [
    "## 행 지우기\n",
    "df = df.loc[remove_row, :]\n",
    "df"
   ]
  },
  {
   "cell_type": "code",
   "execution_count": 89,
   "id": "ac6f31a8-951f-401f-b1a9-57823441dea1",
   "metadata": {},
   "outputs": [
    {
     "data": {
      "text/plain": [
       "3009"
      ]
     },
     "execution_count": 89,
     "metadata": {},
     "output_type": "execute_result"
    }
   ],
   "source": [
    "#전체 na개수\n",
    "df.isna().sum().sum()"
   ]
  },
  {
   "cell_type": "code",
   "execution_count": null,
   "id": "4041b3fe-02e3-4154-8161-a8320560fc75",
   "metadata": {},
   "outputs": [],
   "source": [
    "# new_df = df.drop(columns = (df.columns[(df.isna().sum() / df.shape[0]) / 0.7]))\n",
    "# new2_df = df.drop( rows = (new_df.isna().sum(axis=1) / df.shape[1]) > 0.2))"
   ]
  },
  {
   "cell_type": "raw",
   "id": "3cef8417-b884-487d-b810-5d971b5b72bd",
   "metadata": {},
   "source": [
    "#데이터 추가하기\n",
    "new_dic = {'column 1': [value1], 'column 2': [value2], 'column 3': [column 3], 'column 4': [column 4], ...}\n",
    "new_member.index = [3] #보통 추가될 번호로\n",
    "pd.DataFrame(new_dic)\n",
    "pd.concat([test, new_member], axis=0)\n",
    "\n",
    "[] -> 인덱스 번호를 넣으면 인덱스에서 찾고 컬럼 내용을 적으면 컬럼에서 찾아옴\n",
    "test['성별']      type = series\n",
    "test[['성별']]    type = dataframe\n",
    "test[['이름','성별']]  type = dataframe\n",
    "test.loc[test.성별=='남자', '박물관방문'] -= 3\n",
    "\n",
    "인덱스 수정법\n",
    "다 쓰는법, 리세팅으로 재인덱스 시키는 것\n",
    "test.index = np.arange(text.shape[0])\n",
    "test.setindex('이름') -> 이름이 인덱스로 가버림\n",
    "이 상황에서 실제 데이터에는 이름이 안들어가게 되버림\n",
    "다시 인덱스를 되돌려보내고 숫자로 다시 인덱스 시킬땐 이 상황에서\n",
    "test.reset_index()를 해야\n",
    "\n",
    "test.set_index('이름').to_csv('abc.csv', index=None)\n",
    "\n",
    "test.loc[1:4,:] 4개\n",
    "파이썬 인덱싱 [1:4] -> 1,2,3 3개\n",
    "test.iloc[1:5,:] 4개\n",
    "\n",
    "test.이름.str.slice(0,1) == '김'\n",
    "test.나이 >= 28\n",
    "((test.나이 >= 28) & (test.이름.str.slice(0,1) == '김'))\n",
    "\n",
    "pd.concat([ (test.이름.str.slice(0,1) == '김'), test.나이 >= 28, ((test.나이 >= 28) & (test.이름.str.slice(0,1) == '김')) ])\n",
    "test.loc[(test.나이 >= 28) & (test.이름.str.slice(0,1) == '김')[\"이름\",\"성별\"]]\n",
    "test.iloc[(test.나이 >= 28) & (test.이름.str.slice(0,1) == '김'),[0,4]]\n",
    "\n",
    "iloc일 때 불린값을 안받기 때문에 트루 값의 인덱스 값들을 가져와야함\n",
    "arr = ((test.나이 >= 28) & (test.이름.str.slice(0,1) == '김')).value\n",
    "test.iloc[arr,[0,4]]\n"
   ]
  },
  {
   "cell_type": "code",
   "execution_count": 90,
   "id": "51096c22-9206-40d1-b127-8d50843e0440",
   "metadata": {},
   "outputs": [],
   "source": [
    "test1 = pd.DataFrame(\n",
    "    {\n",
    "        '이름':['명하영', '조가영','강다솜'],\n",
    "        '나이':[27,28,27],\n",
    "        '박물관방문':[8,9,np.nan],\n",
    "    }\n",
    ")"
   ]
  },
  {
   "cell_type": "code",
   "execution_count": 91,
   "id": "9f3d7424-733b-4e9a-8e95-d8a0ee19e46d",
   "metadata": {},
   "outputs": [
    {
     "data": {
      "text/html": [
       "<div>\n",
       "<style scoped>\n",
       "    .dataframe tbody tr th:only-of-type {\n",
       "        vertical-align: middle;\n",
       "    }\n",
       "\n",
       "    .dataframe tbody tr th {\n",
       "        vertical-align: top;\n",
       "    }\n",
       "\n",
       "    .dataframe thead th {\n",
       "        text-align: right;\n",
       "    }\n",
       "</style>\n",
       "<table border=\"1\" class=\"dataframe\">\n",
       "  <thead>\n",
       "    <tr style=\"text-align: right;\">\n",
       "      <th></th>\n",
       "      <th>이름</th>\n",
       "      <th>나이</th>\n",
       "      <th>박물관방문</th>\n",
       "    </tr>\n",
       "  </thead>\n",
       "  <tbody>\n",
       "    <tr>\n",
       "      <th>0</th>\n",
       "      <td>명하영</td>\n",
       "      <td>27</td>\n",
       "      <td>8.0</td>\n",
       "    </tr>\n",
       "    <tr>\n",
       "      <th>1</th>\n",
       "      <td>조가영</td>\n",
       "      <td>28</td>\n",
       "      <td>9.0</td>\n",
       "    </tr>\n",
       "    <tr>\n",
       "      <th>2</th>\n",
       "      <td>강다솜</td>\n",
       "      <td>27</td>\n",
       "      <td>NaN</td>\n",
       "    </tr>\n",
       "  </tbody>\n",
       "</table>\n",
       "</div>"
      ],
      "text/plain": [
       "    이름  나이  박물관방문\n",
       "0  명하영  27    8.0\n",
       "1  조가영  28    9.0\n",
       "2  강다솜  27    NaN"
      ]
     },
     "execution_count": 91,
     "metadata": {},
     "output_type": "execute_result"
    }
   ],
   "source": [
    "test1"
   ]
  },
  {
   "cell_type": "raw",
   "id": "822e5acd-04ab-4afc-baad-e467c7e07714",
   "metadata": {},
   "source": [
    "test = pd.concat([test,test1])"
   ]
  },
  {
   "cell_type": "code",
   "execution_count": 93,
   "id": "5904cef8-c134-450b-9c69-f7da4ddf3a45",
   "metadata": {},
   "outputs": [
    {
     "data": {
      "text/html": [
       "<div>\n",
       "<style scoped>\n",
       "    .dataframe tbody tr th:only-of-type {\n",
       "        vertical-align: middle;\n",
       "    }\n",
       "\n",
       "    .dataframe tbody tr th {\n",
       "        vertical-align: top;\n",
       "    }\n",
       "\n",
       "    .dataframe thead th {\n",
       "        text-align: right;\n",
       "    }\n",
       "</style>\n",
       "<table border=\"1\" class=\"dataframe\">\n",
       "  <thead>\n",
       "    <tr style=\"text-align: right;\">\n",
       "      <th></th>\n",
       "      <th>이름</th>\n",
       "      <th>나이</th>\n",
       "      <th>박물관방문</th>\n",
       "    </tr>\n",
       "  </thead>\n",
       "  <tbody>\n",
       "    <tr>\n",
       "      <th>0</th>\n",
       "      <td>False</td>\n",
       "      <td>False</td>\n",
       "      <td>False</td>\n",
       "    </tr>\n",
       "    <tr>\n",
       "      <th>1</th>\n",
       "      <td>False</td>\n",
       "      <td>False</td>\n",
       "      <td>False</td>\n",
       "    </tr>\n",
       "    <tr>\n",
       "      <th>2</th>\n",
       "      <td>False</td>\n",
       "      <td>False</td>\n",
       "      <td>True</td>\n",
       "    </tr>\n",
       "  </tbody>\n",
       "</table>\n",
       "</div>"
      ],
      "text/plain": [
       "      이름     나이  박물관방문\n",
       "0  False  False  False\n",
       "1  False  False  False\n",
       "2  False  False   True"
      ]
     },
     "execution_count": 93,
     "metadata": {},
     "output_type": "execute_result"
    }
   ],
   "source": [
    "test1.isna()"
   ]
  },
  {
   "cell_type": "code",
   "execution_count": 96,
   "id": "de0b7690-f3b5-4869-af11-780b014c4bc8",
   "metadata": {},
   "outputs": [
    {
     "data": {
      "text/plain": [
       "2   NaN\n",
       "Name: 박물관방문, dtype: float64"
      ]
     },
     "execution_count": 96,
     "metadata": {},
     "output_type": "execute_result"
    }
   ],
   "source": [
    "test1.loc[test1.박물관방문.isna(), '박물관방문']"
   ]
  },
  {
   "cell_type": "code",
   "execution_count": 97,
   "id": "edf91a24-59e8-4e23-998e-d0489a1b5e32",
   "metadata": {},
   "outputs": [],
   "source": [
    "test1.loc[test1.박물관방문.isna(), '박물관방문'] = 20"
   ]
  },
  {
   "cell_type": "code",
   "execution_count": 98,
   "id": "85598fa8-405e-46b7-87e1-2dd05f4fb53c",
   "metadata": {},
   "outputs": [
    {
     "data": {
      "text/html": [
       "<div>\n",
       "<style scoped>\n",
       "    .dataframe tbody tr th:only-of-type {\n",
       "        vertical-align: middle;\n",
       "    }\n",
       "\n",
       "    .dataframe tbody tr th {\n",
       "        vertical-align: top;\n",
       "    }\n",
       "\n",
       "    .dataframe thead th {\n",
       "        text-align: right;\n",
       "    }\n",
       "</style>\n",
       "<table border=\"1\" class=\"dataframe\">\n",
       "  <thead>\n",
       "    <tr style=\"text-align: right;\">\n",
       "      <th></th>\n",
       "      <th>이름</th>\n",
       "      <th>나이</th>\n",
       "      <th>박물관방문</th>\n",
       "    </tr>\n",
       "  </thead>\n",
       "  <tbody>\n",
       "    <tr>\n",
       "      <th>0</th>\n",
       "      <td>명하영</td>\n",
       "      <td>27</td>\n",
       "      <td>8.0</td>\n",
       "    </tr>\n",
       "    <tr>\n",
       "      <th>1</th>\n",
       "      <td>조가영</td>\n",
       "      <td>28</td>\n",
       "      <td>9.0</td>\n",
       "    </tr>\n",
       "    <tr>\n",
       "      <th>2</th>\n",
       "      <td>강다솜</td>\n",
       "      <td>27</td>\n",
       "      <td>20.0</td>\n",
       "    </tr>\n",
       "  </tbody>\n",
       "</table>\n",
       "</div>"
      ],
      "text/plain": [
       "    이름  나이  박물관방문\n",
       "0  명하영  27    8.0\n",
       "1  조가영  28    9.0\n",
       "2  강다솜  27   20.0"
      ]
     },
     "execution_count": 98,
     "metadata": {},
     "output_type": "execute_result"
    }
   ],
   "source": [
    "test1"
   ]
  },
  {
   "cell_type": "code",
   "execution_count": 102,
   "id": "727b7a0a-74de-46fd-b7d9-7687d65678c3",
   "metadata": {},
   "outputs": [
    {
     "data": {
      "text/html": [
       "<div>\n",
       "<style scoped>\n",
       "    .dataframe tbody tr th:only-of-type {\n",
       "        vertical-align: middle;\n",
       "    }\n",
       "\n",
       "    .dataframe tbody tr th {\n",
       "        vertical-align: top;\n",
       "    }\n",
       "\n",
       "    .dataframe thead th {\n",
       "        text-align: right;\n",
       "    }\n",
       "</style>\n",
       "<table border=\"1\" class=\"dataframe\">\n",
       "  <thead>\n",
       "    <tr style=\"text-align: right;\">\n",
       "      <th></th>\n",
       "      <th>이름</th>\n",
       "      <th>나이</th>\n",
       "      <th>박물관방문</th>\n",
       "    </tr>\n",
       "  </thead>\n",
       "  <tbody>\n",
       "    <tr>\n",
       "      <th>0</th>\n",
       "      <td>명하영</td>\n",
       "      <td>27</td>\n",
       "      <td>NaN</td>\n",
       "    </tr>\n",
       "    <tr>\n",
       "      <th>1</th>\n",
       "      <td>조가영</td>\n",
       "      <td>28</td>\n",
       "      <td>9.0</td>\n",
       "    </tr>\n",
       "    <tr>\n",
       "      <th>2</th>\n",
       "      <td>강다솜</td>\n",
       "      <td>27</td>\n",
       "      <td>20.0</td>\n",
       "    </tr>\n",
       "  </tbody>\n",
       "</table>\n",
       "</div>"
      ],
      "text/plain": [
       "    이름  나이  박물관방문\n",
       "0  명하영  27    NaN\n",
       "1  조가영  28    9.0\n",
       "2  강다솜  27   20.0"
      ]
     },
     "execution_count": 102,
     "metadata": {},
     "output_type": "execute_result"
    }
   ],
   "source": [
    "test1.loc[0,'박물관방문'] = np.nan\n",
    "test1"
   ]
  },
  {
   "cell_type": "code",
   "execution_count": 105,
   "id": "02d46c9c-c31d-417f-9be0-0fa208459084",
   "metadata": {},
   "outputs": [
    {
     "data": {
      "text/plain": [
       "14.5"
      ]
     },
     "execution_count": 105,
     "metadata": {},
     "output_type": "execute_result"
    }
   ],
   "source": [
    "test1.박물관방문.mean()"
   ]
  },
  {
   "cell_type": "code",
   "execution_count": 108,
   "id": "3d2c15f2-7760-4314-9729-20ffac3674b9",
   "metadata": {},
   "outputs": [],
   "source": [
    "test1.박물관방문.fillna(test1.박물관방문.mean(),inplace=True)"
   ]
  },
  {
   "cell_type": "raw",
   "id": "b8dcc2da-3ca9-4a58-ba6c-8462d6cefd5c",
   "metadata": {},
   "source": [
    "tmp= pd.DataFrame(np.vstack([test.values,np.array(['이강욱',43,100,100/43,'남자'])]))\n",
    "tmp.columns = test.columns\n",
    "tmp.loc[tmp.이름=='이강욱', :]\n",
    "tmp.drop([9],axis=0)"
   ]
  },
  {
   "cell_type": "code",
   "execution_count": 121,
   "id": "556750cb-38f3-447f-8f00-4097a0c1aaaa",
   "metadata": {},
   "outputs": [],
   "source": [
    "x = np.random.randint(50,100,1000000000)"
   ]
  },
  {
   "cell_type": "code",
   "execution_count": 118,
   "id": "128a07cf-044e-4619-bfac-7e3476ebef22",
   "metadata": {},
   "outputs": [],
   "source": [
    "#90 이상은 A\n",
    "#80~90 'B'\n",
    "#70~80 'C'\n",
    "# ~70 'D'"
   ]
  },
  {
   "cell_type": "code",
   "execution_count": 122,
   "id": "29962d5e-e484-4a3c-a8d0-3157effc1508",
   "metadata": {},
   "outputs": [
    {
     "name": "stderr",
     "output_type": "stream",
     "text": [
      "\n",
      "KeyboardInterrupt\n",
      "\n"
     ]
    }
   ],
   "source": [
    "score = []\n",
    "for i in x:\n",
    "    if i >= 90:\n",
    "        score.append('A')\n",
    "    elif 80 <= i:\n",
    "        score.append('B')\n",
    "    elif 70 <= i:\n",
    "        score.append('C')\n",
    "    else:\n",
    "        score.append('D')"
   ]
  },
  {
   "cell_type": "code",
   "execution_count": 123,
   "id": "8510d648-e8dd-40e5-828c-6e9559dac0e1",
   "metadata": {},
   "outputs": [
    {
     "data": {
      "text/plain": [
       "749485307"
      ]
     },
     "execution_count": 123,
     "metadata": {},
     "output_type": "execute_result"
    }
   ],
   "source": [
    "len(score)"
   ]
  },
  {
   "cell_type": "code",
   "execution_count": 126,
   "id": "9afe28e8-d73e-4566-8554-23b286de3564",
   "metadata": {},
   "outputs": [
    {
     "data": {
      "text/plain": [
       "array(['D', 'D', 'C', ..., 'B', 'A', 'D'], dtype='<U1')"
      ]
     },
     "execution_count": 126,
     "metadata": {},
     "output_type": "execute_result"
    }
   ],
   "source": [
    "np.where(x >= 90,'A',\n",
    "        np.where(x >= 80,'B',\n",
    "                np.where(x>=70,'C','D')))"
   ]
  },
  {
   "cell_type": "code",
   "execution_count": null,
   "id": "ab615754-366b-4fc6-ab46-7406f7271278",
   "metadata": {
    "editable": true,
    "slideshow": {
     "slide_type": ""
    },
    "tags": []
   },
   "outputs": [],
   "source": []
  }
 ],
 "metadata": {
  "kernelspec": {
   "display_name": "Python 3 (ipykernel)",
   "language": "python",
   "name": "python3"
  },
  "language_info": {
   "codemirror_mode": {
    "name": "ipython",
    "version": 3
   },
   "file_extension": ".py",
   "mimetype": "text/x-python",
   "name": "python",
   "nbconvert_exporter": "python",
   "pygments_lexer": "ipython3",
   "version": "3.11.4"
  }
 },
 "nbformat": 4,
 "nbformat_minor": 5
}
