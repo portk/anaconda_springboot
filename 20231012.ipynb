{
 "cells": [
  {
   "cell_type": "markdown",
   "id": "79d09015-f16e-4a30-b84d-45d79e9ac192",
   "metadata": {},
   "source": [
    "프로그램\n",
    "절차지향 (c)\n",
    "객체지향 c#, java\n",
    "함수형 언어 (java script, scalar)\n",
    "\n",
    "과정중에 못한 내용을 뒤로 끌고가지 않으려고 하고 계신다."
   ]
  },
  {
   "cell_type": "code",
   "execution_count": 3,
   "id": "810da714-c51c-4f51-a742-11fb66e6dd2c",
   "metadata": {},
   "outputs": [],
   "source": [
    "import selenium          #셀레늄은 패키지임.\n",
    "import time\n",
    "from selenium import webdriver   #셀레늄안의 웹드라이버\n",
    "from selenium.webdriver.common.keys import Keys  #셀레늄 안의 웹드라이버 안에 커먼 안에 키\n",
    "from selenium.webdriver.common.by import By      #셀레늄 안의 웹드라이버 안의 커먼 안의 바이\n",
    "from urllib.request import urlretrieve    #request 요청 -> response 응답\n",
    "                                          #    사용자   ->     서버     "
   ]
  },
  {
   "cell_type": "markdown",
   "id": "df9a7459-58e3-4cce-8ced-b61f1dfe76fd",
   "metadata": {},
   "source": [
    "요청을 하는 방식 : 일반적인 방식\n",
    "소켓방식: 다 뚫어놓은 것 ex)채팅\n",
    "\n",
    "리퀘스트를 하는 방식은 http프로토콜을 이용하여 요청한다.\n",
    "요청에 대한 모듈들을 가진 것이 urllib.request이다.\n",
    "\n",
    "urlopen : 오청하면 내가 그쪽으로 가도록 뚫어주라. -> 성공페이지나 에러페이지를 띄워줌\n",
    "get: 뚫어진 통로로 데이터를 가져오는 것\n",
    "urlretrieve : 요청해서 다운해달라.\n",
    "\n",
    "어떤 준비가 필요한지 계속 연습해야 한다.\n",
    "외우지 말고 돌아가는 방식을 배워라.\n",
    "\n",
    "time이 필요한 이유: 자동제어에 sleep를 사용하기 위해서."
   ]
  },
  {
   "cell_type": "markdown",
   "id": "c3a855cf-7c7d-4d29-8bbd-97d4db56badf",
   "metadata": {},
   "source": [
    "string을 이용해 요청을 했을 때 html string을 응답해주는것. 따라서 받은 페이지는 그냥 사용자 개인의 것이 됨\n",
    "time을 통해 응답을 받을 시간을 고려해준다."
   ]
  },
  {
   "cell_type": "markdown",
   "id": "c6f14bec-5a48-4814-a1ee-de3fa7c0880a",
   "metadata": {},
   "source": [
    "자바 스크립트가 뜨게 된 이유는 서버에서 제공받고 요청 받는놈이 보통 자바인데\n",
    "자바스크립트는 보통 배너같은 것에 이용하고 있었는데\n",
    "\n",
    "예전에는 화면만 가지고 뚜작뚜작 하고있는 것였는데 요즘은 프론트엔드도 강해졌다.\n",
    "\n",
    "크롬에서 자바스크립트로도 백엔드도 가능하게 만들어 발표를 했다.\n",
    "그때 자바스크립트도 뜨게 되었다.\n",
    "\n",
    "웹브라우저 뛰어난 언어가 자바스크립\n"
   ]
  },
  {
   "cell_type": "code",
   "execution_count": 7,
   "id": "b0c5ef59-c275-4ce7-8bcd-07957f1ac04a",
   "metadata": {},
   "outputs": [
    {
     "name": "stdout",
     "output_type": "stream",
     "text": [
      "1\n",
      "2\n"
     ]
    }
   ],
   "source": [
    "#ex)\n",
    "print(1)\n",
    "time.sleep(3)\n",
    "print(2)"
   ]
  },
  {
   "cell_type": "code",
   "execution_count": 131,
   "id": "0be5c5bc-5b5a-4672-8389-50b7607306c9",
   "metadata": {},
   "outputs": [],
   "source": [
    "driver = webdriver.Chrome()"
   ]
  },
  {
   "cell_type": "code",
   "execution_count": 132,
   "id": "1ec2eff6-400c-4038-b212-92460755182f",
   "metadata": {},
   "outputs": [],
   "source": [
    "url = \"https://www.google.com\"\n",
    "driver.get(url)"
   ]
  },
  {
   "cell_type": "code",
   "execution_count": 133,
   "id": "e594aa30-6f73-4a0f-9011-bdd294e9a6e7",
   "metadata": {},
   "outputs": [],
   "source": [
    "driver.find_elements(By.CSS_SELECTOR,'.gb_E')[1].click()"
   ]
  },
  {
   "cell_type": "code",
   "execution_count": 134,
   "id": "22cd7c50-f1f4-428b-b86c-407c76bdf0b6",
   "metadata": {},
   "outputs": [],
   "source": [
    "elem = driver.find_element(By.NAME,'q')"
   ]
  },
  {
   "cell_type": "code",
   "execution_count": 135,
   "id": "efd41d5a-1e41-4c9d-8968-ba33d5353886",
   "metadata": {},
   "outputs": [],
   "source": [
    "elem.send_keys(\"고양이\")\n",
    "elem.send_keys(Keys.ENTER)"
   ]
  },
  {
   "cell_type": "code",
   "execution_count": 108,
   "id": "bb1917e0-8dce-4289-b3b6-901f36989ce1",
   "metadata": {
    "scrolled": true
   },
   "outputs": [
    {
     "name": "stdout",
     "output_type": "stream",
     "text": [
      "58113\n",
      "58113\n"
     ]
    }
   ],
   "source": [
    "#밑의 while 문에 포함되어 있음\n",
    "script_get_height = \"return document.body.scrollHeight\"\n",
    "current_height = driver.execute_script(script_getheight)\n",
    "print(current_height)\n",
    "#script_move_height = f\"window.scrollTo(0,{current_height});\"\n",
    "script_move_height = \"window.scrollTo(0,document.body.scrollHeight);\"\n",
    "driver.execute_script(script_move_height)\n",
    "time.sleep(1)\n",
    "current_height = driver.execute_script(script_getheight)\n",
    "print(current_height)"
   ]
  },
  {
   "cell_type": "code",
   "execution_count": 102,
   "id": "72579200-c780-4b6b-8b23-f48793b34f2f",
   "metadata": {},
   "outputs": [],
   "source": [
    "#결과 더보기 클릭\n",
    "driver.find_element(By.CSS_SELECTOR,\".LZ4I\").click()"
   ]
  },
  {
   "cell_type": "code",
   "execution_count": 107,
   "id": "89a80ed7-5e28-4c60-b520-b4854ba6fad1",
   "metadata": {},
   "outputs": [
    {
     "name": "stdout",
     "output_type": "stream",
     "text": [
      "58113\n",
      "58113\n"
     ]
    }
   ],
   "source": [
    "current_height = driver.execute_script(script_getheight)\n",
    "print(current_height)\n",
    "script_move_height = \"window.scrollTo(0,document.body.scrollHeight);\"\n",
    "driver.execute_script(script_move_height)\n",
    "current_height = driver.execute_script(script_getheight)\n",
    "print(current_height)"
   ]
  },
  {
   "cell_type": "code",
   "execution_count": 136,
   "id": "ec7d4cf2-321c-43d0-b459-1ec56f77d290",
   "metadata": {},
   "outputs": [
    {
     "name": "stdout",
     "output_type": "stream",
     "text": [
      "58187\n"
     ]
    }
   ],
   "source": [
    "while True:\n",
    "    script_get_height = \"return document.body.scrollHeight\"\n",
    "    current_height = driver.execute_script(script_getheight)\n",
    "    script_move_height = \"window.scrollTo(0,document.body.scrollHeight);\"\n",
    "    driver.execute_script(script_move_height)\n",
    "    time.sleep(2)\n",
    "    height = driver.execute_script(script_getheight)\n",
    "    if current_height == height:\n",
    "        try:\n",
    "            driver.find_element(By.CSS_SELECTOR,\".LZ4I\").click()\n",
    "        except:\n",
    "            break\n",
    "print(current_height)"
   ]
  },
  {
   "cell_type": "code",
   "execution_count": 142,
   "id": "cafe15d6-e9f8-466a-afd0-fddd35288e42",
   "metadata": {},
   "outputs": [],
   "source": [
    "elements = driver.find_elements(By.CSS_SELECTOR,\".rg_i.Q4LuWd\")"
   ]
  },
  {
   "cell_type": "code",
   "execution_count": 148,
   "id": "55f65e21-3e75-48d5-84a3-32c4679cf445",
   "metadata": {},
   "outputs": [
    {
     "name": "stdout",
     "output_type": "stream",
     "text": [
      "https://health.chosun.com/site/data/img_dir/2023/07/17/2023071701753_0.jpg\n",
      "https://cdn.pixabay.com/photo/2023/04/13/17/53/kitten-7923121_1280.jpg\n",
      "https://i.namu.wiki/i/XGgP6E-6eOwHuC84pFQpqvTvFAj1VjJQJlOOQV7Ky3MrBzI-IdXGw9r4L1YkCxUv5Uk3rYVWkmWHY8unoh8iSQ.webp\n",
      "https://img.seoul.co.kr/img/upload/2023/01/30/SSC_20230130133942.png\n",
      "https://img.catpre.com/mobile/catpre/event/main_banner/_top1_m_202309271009181.jpg\n",
      "https://cdn.dailycc.net/news/photo/202307/749409_650699_5735.jpg\n",
      "https://img.catpre.com/mobile/catpre/event/main_banner/_top1_m_202310061113321.jpg\n",
      "https://i.namu.wiki/i/qiIgxBLKD2DisRt4lGaFOH62EFMz_L3WFF9cU4LKlqFFLuhw9vTOJBx0RqDyZgu4_evDAqgEkca9Sqhw5_oJng.webp\n",
      "https://i.ytimg.com/vi/y2XDWHws8m4/sddefault.jpg\n",
      "https://cdn.imweb.me/thumbnail/20210202/08dc048ec6877.jpg\n",
      "https://cdn.imweb.me/upload/S2019062402ab744db74bb/80cbb82aa4aa3.jpg\n",
      "https://image.edaily.co.kr/images/photo/files/NP/S/2021/01/PS21012600148.jpg\n",
      "https://sev.severance.healthcare/app/board/attach/image/25878_1605086825917.do\n",
      "https://png.pngtree.com/element_our/png/20181009/thai-cat-cream-tabby-sitting-png_131622.jpg\n",
      "https://image.kmib.co.kr/online_image/2023/0614/2023061408152558850_1686698125_0018359598.jpg\n",
      "https://flexible.img.hani.co.kr/flexible/normal/970/518/imgdb/original/2023/0523/9416848324199599.jpg\n",
      "https://i.namu.wiki/i/32bQvvHQB1n8yrNkKNXfn5rFrRi1PWIqPqnZ2j9Rxt6IrOgWorbW_v0Wm51z7C1GxL60o097Uqf2SNf56GBIeA.webp\n",
      "https://news.kbs.co.kr/data/fckeditor/new/image/2021/11/10/320201636447391249.jpg\n",
      "https://live.lge.co.kr/wp-content/uploads/2023/03/2-3.png\n",
      "https://gongu.copyright.or.kr/gongu/wrt/cmmn/wrtFileImageView.do?wrtSn=13137253&filePath=L2Rpc2sxL25ld2RhdGEvMjAxOC8yMS9DTFMxLzEzMTM3MjUzX0NPTENUX1dSVDIwMTgxMTI2XzE=&thumbAt=Y&thumbSe=b_tbumb&wrtTy=10006\n",
      "https://www.kgnews.co.kr/data/photos/20220832/art_16599350966819_1053f2.jpg\n",
      "https://m.cattery.co.kr/_dj/img/main_section_1_img1.jpg\n",
      "https://rimage.gnst.jp/livejapan.com/public/article/detail/a/30/00/a3000043/img/ko/a3000043_parts_5d9572856dbdc.jpg?20210222181612&q=80&rw=686&rh=490\n",
      "https://rimage.gnst.jp/livejapan.com/public/article/detail/a/30/00/a3000043/img/ko/a3000043_parts_5d9572856dbdc.jpg?20210222181612&q=80&rw=686&rh=490\n",
      "https://newsimg.sedaily.com/2023/06/14/29QUO9V620_1.jpg\n",
      "https://www.pigpeople.net/data/photos/20230730/art_16903226228165_8f915b.jpg\n",
      "https://www.dailyonehealth.com/news/photo/202105/1434_1068_3141.jpg\n",
      "https://www.petpostnews.com/news/photo/202306/860_1298_4717.jpg\n",
      "https://img.newspim.com/news/2022/02/18/2202180153398201.jpg\n",
      "https://stock.mk.co.kr/photos/20230205/PCM20190513000074343_P4.jpg\n",
      "https://stock.mk.co.kr/photos/20230205/PCM20190513000074343_P4.jpg\n",
      "https://www.dailygaewon.com/news/photo/202105/11330_11828_3159.jpg\n",
      "https://cdn.011st.com/11dims/resize/600x600/quality/75/11src/product/2727519343/B.jpg?107000000\n",
      "https://www.sisa-news.com/data/photos/20200835/art_159861073262_7cd798.jpg\n",
      "https://haninpost.com/wp-content/uploads/2022/10/%EC%95%84%ED%94%88-%EA%B3%A0%EC%96%91%EC%9D%B4.png\n",
      "https://botanical.house/wp-content/uploads/2023/05/botanical-235-3.webp\n",
      "https://img.catpre.com/mobile/catpre/event/main_banner/_top1_m_202310041937261.jpg\n",
      "https://product.cdn.cevaws.com/var/storage/images/media/feliway-2017/images/www-ww/cat_pheromones_happy/3665319-1-www-WW/cat_pheromones_happy.png\n",
      "https://cdn.imweb.me/upload/S201712205a3a0910b89f5/a2470afad8a92.jpg\n",
      "https://www.kukinews.com/data/kuk/image/2022/11/30/kuk202211300215.jpg\n",
      "https://www.kukinews.com/data/kuk/image/2022/11/30/kuk202211300215.jpg\n",
      "https://jpassets.jobplanet.co.kr/production/uploads/material/media/5419/%E1%84%80%E1%85%A9%E1%84%8B%E1%85%A3%E1%86%BC%E1%84%8B%E1%85%B5-%E1%84%92%E1%85%AC%E1%84%89%E1%85%A1.jpg\n",
      "https://media.istockphoto.com/id/1218973604/ko/%EB%B2%A1%ED%84%B0/%EA%B3%A0%EC%96%91%EC%9D%B4-%ED%92%88%EC%A2%85%EC%9D%98-%EC%B4%88%EC%83%81%ED%99%94-%EC%84%B8%ED%8A%B8-2.jpg?s=612x612&w=is&k=20&c=Z0KQ1GgADI2qd4UjUZfZ1_IqqKcN7NYNFbG6fHd8nfQ=\n",
      "https://media.istockphoto.com/id/1218973604/ko/%EB%B2%A1%ED%84%B0/%EA%B3%A0%EC%96%91%EC%9D%B4-%ED%92%88%EC%A2%85%EC%9D%98-%EC%B4%88%EC%83%81%ED%99%94-%EC%84%B8%ED%8A%B8-2.jpg?s=612x612&w=is&k=20&c=Z0KQ1GgADI2qd4UjUZfZ1_IqqKcN7NYNFbG6fHd8nfQ=\n",
      "https://cdn.thedailypost.kr/news/photo/202210/89786_86611_1045.png\n",
      "https://png.pngtree.com/png-vector/20201229/ourmid/pngtree-a-squatting-adult-wild-cat-png-image_2664959.jpg\n",
      "https://cdn.ekoreanews.co.kr/news/photo/202303/65775_76460_1554.jpg\n",
      "https://www.sisain.co.kr/news/photo/202303/49997_91199_47.jpg\n",
      "https://www.sisain.co.kr/news/photo/202303/49997_91199_47.jpg\n",
      "https://cdn.pixabay.com/photo/2017/07/25/23/11/cat-2539887_1280.jpg\n",
      "https://cdn.pixabay.com/photo/2017/07/25/23/11/cat-2539887_1280.jpg\n",
      "https://www.epnnews.com/news/photo/202101/5928_7382_5220.jpg\n",
      "https://i.namu.wiki/i/PagwakcE00JZaGpEvXym79-IMvKFBmdqOBlq778J-bvJMwz15lDLleTKc56S2wwcRcaEm3FZZ4EtniRa5bXdeQ.webp\n",
      "https://flexible.img.hani.co.kr/flexible/normal/970/518/imgdb/original/2020/1109/2116049004545657.jpg\n",
      "https://img1.daumcdn.net/thumb/R658x0.q70/?fname=https://t1.daumcdn.net/news/202308/23/bemypet/20230823100023207fafk.jpg\n",
      "https://www.seattlen.com/data/file/hot/26300_copy_26305_3227026947_5Ikq7lGJ_10481a9bd800990163802b7f85d049944b131e2f.jpg\n",
      "https://static.ebs.co.kr/images/public/2022/02/25/14/12/59/0d7a78d8-8298-43bb-8a09-af700f14c46f.jpg\n",
      "https://m.xn--o39aqqt5q33r9ecc46a.com/web/product/medium/202306/c30f627daadad09b806a4747d22cd497.jpg\n",
      "https://product.cdn.cevaws.com/var/storage/images/_aliases/reference/media/feliway-2017/images/kor-kr/1_hmonqbkozu3hlb1tmtsmag/6341834-1-kor-KR/1_HmonQBKoZU3HlB1TmtsmAg.jpg\n",
      "https://img.catpre.com/mobile/catpre/event/main_banner/_top1_m_202309271532551.jpg\n",
      "https://sev.severance.healthcare/app/board/attach/image/25872_1605086825323.do\n",
      "https://images.pexels.com/photos/1366996/pexels-photo-1366996.jpeg?auto=compress&cs=tinysrgb&w=1260&h=750&dpr=1\n",
      "https://cdn.pixabay.com/photo/2022/09/14/15/55/cat-7454685_1280.jpg\n",
      "https://png.pngtree.com/thumb_back/fh260/background/20210409/pngtree-rules-of-biotex-cat-image_600076.jpg\n",
      "https://ojsfile.ohmynews.com/STD_IMG_FILE/2020/1127/IE002726552_STD.jpg\n",
      "https://image.kmib.co.kr/online_image/2022/1015/2022101417201264111_1665735612_0017569671.jpg\n",
      "https://file2.nocutnews.co.kr/newsroom/image/2023/09/07/202309071324599631_0.jpg\n",
      "https://img.allurekorea.com/allure/2023/08/style_64d0bb3f18816-525x700.jpg\n",
      "https://m.segye.com/content/image/2022/10/26/20221026503373.jpg\n",
      "https://img.catpre.com/web/catpre/event/popular_keyword_theme/22_pc_main_page_banner_0734.jpg\n",
      "https://upload.wikimedia.org/wikipedia/commons/thumb/c/ce/%EB%82%98%EB%AC%B4_%EC%9C%84%EC%9D%98_%EA%B3%A0%EC%96%91%EC%9D%B4.jpg/640px-%EB%82%98%EB%AC%B4_%EC%9C%84%EC%9D%98_%EA%B3%A0%EC%96%91%EC%9D%B4.jpg\n",
      "https://i.namu.wiki/i/r-Gqz0BVi9GJ0lN8ak3jSLLVXmPK6EIZpWQo7t6z0era7cfMevQEhiOcSvvTc8GYVYcPHGitlC8LbBiJ2l5XVw.webp\n",
      "https://news.imaeil.com/photos/2021/01/14/2021011414030267931_l.png\n",
      "https://cdn.pixabay.com/photo/2018/06/18/17/21/cat-3482912_1280.jpg\n",
      "https://png.pngtree.com/background/20211215/original/pngtree-cat-cute-cat-head-background-picture-image_1469238.jpg\n",
      "https://img.khan.co.kr/news/2023/08/03/news-p.v1.20230803.8a2f74433ee848beb2edd983e383f096_P1.jpg\n",
      "https://blog.kakaocdn.net/dn/bfqTr8/btqOc9HWxuE/uY44jGLra5lOpTpwEOZsmk/img.jpg\n",
      "https://newsimg.hankookilbo.com/cms/articlerelease/2020/12/08/a96e2141-23b0-4e45-a2cd-e7bad462e8c9.jpg\n",
      "https://i.namu.wiki/i/d1A_wD4kuLHmOOFqJdVlOXVt1TWA9NfNt_HA0CS0Y_N0zayUAX8olMuv7odG2FiDLDQZIRBqbPQwBSArXfEJlQ.webp\n",
      "https://img.catpre.com/web/catpre/event/popular_keyword_theme/28_pc_main_page_banner_5301.jpg\n",
      "https://png.pngtree.com/thumb_back/fw800/background/20230610/pngtree-fat-orange-cat-sits-on-top-of-a-rock-image_2911772.jpg\n",
      "https://img.seoul.co.kr//img/upload/2023/04/04/SSC_20230404115648.png\n",
      "https://i.namu.wiki/i/dx-9cagv5A_h8x_QWEBDgYtlvI4skHgM-cIGKLE_RNxm7Aj8wj_pBeEJhIXG8CJUa-3dXzY6w6UOVya56wR8Vg.webp\n",
      "https://img.catpre.com/mobile/catpre/product/43/42372_list_L1_01831037.jpg\n",
      "https://www.fitpetmall.com/wp-content/uploads/2023/10/shutterstock_2258969727-1-1.png\n",
      "https://i.namu.wiki/i/DqijWmIgx3G1ehxC8dKOGsSIAFD6zxg1ljC05_CvH8FXiX9j4L1r4cDg5FFIDpgdvzvrowHcA3OQTko3RbKt5Q.webp\n",
      "https://img1.daumcdn.net/thumb/R1280x0.fjpg/?fname=http://t1.daumcdn.net/brunch/service/user/8LV9/image/hoGBjeuVOS80XsOPjJydrzBMKX0.jpg\n",
      "https://img.catpre.com/mobile/catpre/event/main_banner/_top1_202304041656431.jpg\n",
      "https://i.namu.wiki/i/1qzBEGg9NaJHyShGj18SLEaXLKjNyLnBsr39C2S80ZAiVEkEn0pOYbwZRManZFzx1p9JUtbEVSnaxAEPyd1CeQ.webp\n",
      "https://i.namu.wiki/i/tTwt-DXKYd_CmuykR4krcKnp8DCSQbttDx4CyMiPw10LjfeSvB5HRMzSOhngrvIfohcblTxHVrtbTG5vWUDx5w.webp\n",
      "https://i.namu.wiki/i/6JFTi9aSujJ6pEpSxtlBMeTLFqqJaCK-ZnIGm_KN4sbCRvjQBroun3zk7TOdn5EJnXi9gMuswTwjUcI2TGMXSw.webp\n",
      "https://i.namu.wiki/i/ta2WjbDil6ftfFumTgmSfuh3rpRv-pl97PYi8JsRIrJ5o8MJyXagyUxEfUKoA6U5TEbAWUc57gyI1AzRZ0UY-w.webp\n",
      "https://i.namu.wiki/i/XOUo5FTBKUC_SVqpZ64UtxcYirbvuDSD64B_CpOvcZ-6UuqMg8CZcMz10IDDDOjf9MP3cyh0tWffGEvBmyD3jg.webp\n",
      "https://i.namu.wiki/i/xSUf6OgzL08m1tN0AFsgl5rjPtZkR2yHtU5PMc9RFYLaUSmtr2E9KDeaBKnA3TdbgvN99oMQ_oHmk89y4FNVOQ.webp\n",
      "https://i.namu.wiki/i/93wyTFnNb78PCP3dql3P_Aros3DBmHZR-fYpM7gMp6JmbgheD4iwjxVlLrFj_9LRTFrhSTLIsgntjz3hc42Yeg.webp\n"
     ]
    }
   ],
   "source": [
    "i = 1\n",
    "for i,elem in enumerate(elements):\n",
    "    try:\n",
    "        elem.click()\n",
    "        driver.implicitly_wait(1)\n",
    "        img_url = driver.find_element(By.CSS_SELECTOR,\".sFlh5c.pT0Scc.iPVvYb\").get_attribute(\"src\")\n",
    "        urlretrieve(img_url,f'neko/고양이{i}.jpg')\n",
    "        i += 1\n",
    "    except:\n",
    "        print(img_url)"
   ]
  },
  {
   "cell_type": "code",
   "execution_count": null,
   "id": "02c6d61d-fb7e-4d6e-8e53-1fcf9b05703f",
   "metadata": {},
   "outputs": [],
   "source": []
  },
  {
   "cell_type": "code",
   "execution_count": null,
   "id": "f5f1ca50-0203-4284-afef-e359c87a1521",
   "metadata": {},
   "outputs": [],
   "source": []
  }
 ],
 "metadata": {
  "kernelspec": {
   "display_name": "Python 3 (ipykernel)",
   "language": "python",
   "name": "python3"
  },
  "language_info": {
   "codemirror_mode": {
    "name": "ipython",
    "version": 3
   },
   "file_extension": ".py",
   "mimetype": "text/x-python",
   "name": "python",
   "nbconvert_exporter": "python",
   "pygments_lexer": "ipython3",
   "version": "3.11.4"
  }
 },
 "nbformat": 4,
 "nbformat_minor": 5
}
