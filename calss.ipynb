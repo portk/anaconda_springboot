{
 "cells": [
  {
   "cell_type": "code",
   "execution_count": null,
   "id": "900188bd-7edb-40db-b6ed-be8c172b3e35",
   "metadata": {},
   "outputs": [],
   "source": [
    "## 객체지향 프로그램 특징\n",
    "## encapsulation (캡슐화)\n",
    "## abstract (추상화)\n",
    "## morphise (다형성)\n",
    "## inheritence (상속)\n",
    "\n",
    "# python 객체 지향 언어\n",
    "## 클래스"
   ]
  },
  {
   "cell_type": "code",
   "execution_count": 2,
   "id": "1aa6bdab-b249-4de6-b4b5-e2c8e3b68065",
   "metadata": {},
   "outputs": [
    {
     "name": "stdout",
     "output_type": "stream",
     "text": [
      "<class 'int'>\n"
     ]
    }
   ],
   "source": [
    "print(type(1))"
   ]
  },
  {
   "cell_type": "code",
   "execution_count": 3,
   "id": "41ed6fc6-1ea2-4951-bd4d-1d21b07ff762",
   "metadata": {},
   "outputs": [
    {
     "data": {
      "text/plain": [
       "['__abs__',\n",
       " '__add__',\n",
       " '__and__',\n",
       " '__bool__',\n",
       " '__ceil__',\n",
       " '__class__',\n",
       " '__delattr__',\n",
       " '__dir__',\n",
       " '__divmod__',\n",
       " '__doc__',\n",
       " '__eq__',\n",
       " '__float__',\n",
       " '__floor__',\n",
       " '__floordiv__',\n",
       " '__format__',\n",
       " '__ge__',\n",
       " '__getattribute__',\n",
       " '__getnewargs__',\n",
       " '__getstate__',\n",
       " '__gt__',\n",
       " '__hash__',\n",
       " '__index__',\n",
       " '__init__',\n",
       " '__init_subclass__',\n",
       " '__int__',\n",
       " '__invert__',\n",
       " '__le__',\n",
       " '__lshift__',\n",
       " '__lt__',\n",
       " '__mod__',\n",
       " '__mul__',\n",
       " '__ne__',\n",
       " '__neg__',\n",
       " '__new__',\n",
       " '__or__',\n",
       " '__pos__',\n",
       " '__pow__',\n",
       " '__radd__',\n",
       " '__rand__',\n",
       " '__rdivmod__',\n",
       " '__reduce__',\n",
       " '__reduce_ex__',\n",
       " '__repr__',\n",
       " '__rfloordiv__',\n",
       " '__rlshift__',\n",
       " '__rmod__',\n",
       " '__rmul__',\n",
       " '__ror__',\n",
       " '__round__',\n",
       " '__rpow__',\n",
       " '__rrshift__',\n",
       " '__rshift__',\n",
       " '__rsub__',\n",
       " '__rtruediv__',\n",
       " '__rxor__',\n",
       " '__setattr__',\n",
       " '__sizeof__',\n",
       " '__str__',\n",
       " '__sub__',\n",
       " '__subclasshook__',\n",
       " '__truediv__',\n",
       " '__trunc__',\n",
       " '__xor__',\n",
       " 'as_integer_ratio',\n",
       " 'bit_count',\n",
       " 'bit_length',\n",
       " 'conjugate',\n",
       " 'denominator',\n",
       " 'from_bytes',\n",
       " 'imag',\n",
       " 'numerator',\n",
       " 'real',\n",
       " 'to_bytes']"
      ]
     },
     "execution_count": 3,
     "metadata": {},
     "output_type": "execute_result"
    }
   ],
   "source": [
    "dir(1)"
   ]
  },
  {
   "cell_type": "code",
   "execution_count": 1,
   "id": "8fa72fa4-18f6-4774-b828-2e0fb8cff86c",
   "metadata": {},
   "outputs": [],
   "source": [
    "## 계산하는 클래스를 만둘자\n",
    "class Calc:\n",
    "    ##생성자\n",
    "    def __init__(self,x,y):\n",
    "        self.x = x\n",
    "        self.y = y\n",
    "        \n",
    "    def add(self):\n",
    "        self.add_ = self.x + self.y\n",
    "\n",
    "    def sub(self):\n",
    "        self.sub_ = self.x - self.y\n",
    "\n",
    "    def multi(self):\n",
    "        self.multi_ = self.x * self.y\n",
    "\n",
    "    def div(self):\n",
    "        self.div_ = self.x / self.y\n",
    "\n",
    "    def statistic(self):\n",
    "        self.add()\n",
    "        self.sub()\n",
    "        self.multi()\n",
    "        self.div()\n",
    "\n",
    "    def report(self):\n",
    "        self.statistic()\n",
    "        print(f'더하기 결과는 {self.add_}')\n",
    "        print(f'빼기 결과는 {self.sub_}')\n",
    "        print(f'곱하기 결과는 {self.multi_}')\n",
    "        print(f'나누기 결과는 {self.div_}')"
   ]
  },
  {
   "cell_type": "code",
   "execution_count": 12,
   "id": "40c40930-7c40-446b-9c2c-4978c2180167",
   "metadata": {},
   "outputs": [],
   "source": [
    "class list(list):\n",
    "    def __init__(self,x):\n",
    "        self.x = []\n",
    "        for i in x:\n",
    "            if type(i) != str:\n",
    "                self.x.append(i)\n",
    "\n",
    "    def add(self):\n",
    "        self.s = 0\n",
    "        for i in self.x:\n",
    "            self.s += 1\n",
    "        return self.s"
   ]
  },
  {
   "cell_type": "code",
   "execution_count": 6,
   "id": "cf1fc44d-8eb1-47b3-b732-e7facb3c1448",
   "metadata": {},
   "outputs": [],
   "source": [
    "a = Calc(3,4)\n",
    "b = Calc(5,6)"
   ]
  },
  {
   "cell_type": "code",
   "execution_count": 13,
   "id": "74b38f78-81f4-4c11-bf1f-d2e879e549c8",
   "metadata": {},
   "outputs": [],
   "source": [
    "c = list([1,3,'5','a'])"
   ]
  },
  {
   "cell_type": "code",
   "execution_count": 14,
   "id": "162e9558-8628-4074-8847-c58bae0eda54",
   "metadata": {},
   "outputs": [
    {
     "data": {
      "text/plain": [
       "2"
      ]
     },
     "execution_count": 14,
     "metadata": {},
     "output_type": "execute_result"
    }
   ],
   "source": [
    "c.add()"
   ]
  },
  {
   "cell_type": "code",
   "execution_count": null,
   "id": "353d2bc2-08fa-4593-b273-12adf03152a0",
   "metadata": {},
   "outputs": [],
   "source": [
    "b.x = 10"
   ]
  },
  {
   "cell_type": "code",
   "execution_count": 52,
   "id": "3c9eb9d4-fdb4-450d-b43e-5027cf8af94d",
   "metadata": {},
   "outputs": [],
   "source": [
    "b.sub()"
   ]
  },
  {
   "cell_type": "code",
   "execution_count": 53,
   "id": "93da68ce-9c09-4a92-892e-344eee151bcb",
   "metadata": {},
   "outputs": [
    {
     "data": {
      "text/plain": [
       "4"
      ]
     },
     "execution_count": 53,
     "metadata": {},
     "output_type": "execute_result"
    }
   ],
   "source": [
    "b.result"
   ]
  },
  {
   "cell_type": "code",
   "execution_count": 54,
   "id": "d8b52b50-cb51-4a76-ba75-58769cab24cb",
   "metadata": {},
   "outputs": [],
   "source": [
    "b.c = 11"
   ]
  },
  {
   "cell_type": "code",
   "execution_count": 55,
   "id": "af40b28c-ce5a-4ea3-8d42-ab506cf48ef5",
   "metadata": {},
   "outputs": [
    {
     "data": {
      "text/plain": [
       "11"
      ]
     },
     "execution_count": 55,
     "metadata": {},
     "output_type": "execute_result"
    }
   ],
   "source": [
    "b.c"
   ]
  },
  {
   "cell_type": "code",
   "execution_count": 45,
   "id": "c564bed6-537a-4ea0-a0ec-81f5dc2928f7",
   "metadata": {},
   "outputs": [],
   "source": [
    "class alpha:\n",
    "    def __init__(self, x, y):\n",
    "        self.x = x\n",
    "        self.y = y\n",
    "\n",
    "    def plus(self):\n",
    "        print(self.x+self.y)\n",
    "    def test(self):\n",
    "        print(self.x)"
   ]
  },
  {
   "cell_type": "code",
   "execution_count": 49,
   "id": "1d751a70-362b-4cd8-a3f2-ff4b39cba091",
   "metadata": {},
   "outputs": [],
   "source": [
    "class beta(alpha):\n",
    "    def __init__(self,x):\n",
    "        self.x = x\n",
    "    def div(self):\n",
    "        print(self.x /2)"
   ]
  },
  {
   "cell_type": "code",
   "execution_count": 55,
   "id": "16ee4cf6-d812-4fdb-9de7-2ac0c0503dac",
   "metadata": {},
   "outputs": [],
   "source": [
    "i= beta(3)"
   ]
  },
  {
   "cell_type": "code",
   "execution_count": 56,
   "id": "efa898d1-2c40-4e41-b1f6-2598afff9f41",
   "metadata": {},
   "outputs": [
    {
     "name": "stdout",
     "output_type": "stream",
     "text": [
      "1.5\n"
     ]
    }
   ],
   "source": [
    "i.div()"
   ]
  },
  {
   "cell_type": "code",
   "execution_count": 57,
   "id": "bb451fc7-5321-4767-974c-3e31950b8c0e",
   "metadata": {},
   "outputs": [
    {
     "ename": "AttributeError",
     "evalue": "'beta' object has no attribute 'y'",
     "output_type": "error",
     "traceback": [
      "\u001b[1;31m---------------------------------------------------------------------------\u001b[0m",
      "\u001b[1;31mAttributeError\u001b[0m                            Traceback (most recent call last)",
      "Cell \u001b[1;32mIn[57], line 1\u001b[0m\n\u001b[1;32m----> 1\u001b[0m \u001b[43mi\u001b[49m\u001b[38;5;241;43m.\u001b[39;49m\u001b[43mplus\u001b[49m\u001b[43m(\u001b[49m\u001b[43m)\u001b[49m\n",
      "Cell \u001b[1;32mIn[45], line 7\u001b[0m, in \u001b[0;36malpha.plus\u001b[1;34m(self)\u001b[0m\n\u001b[0;32m      6\u001b[0m \u001b[38;5;28;01mdef\u001b[39;00m \u001b[38;5;21mplus\u001b[39m(\u001b[38;5;28mself\u001b[39m):\n\u001b[1;32m----> 7\u001b[0m     \u001b[38;5;28mprint\u001b[39m(\u001b[38;5;28mself\u001b[39m\u001b[38;5;241m.\u001b[39mx\u001b[38;5;241m+\u001b[39m\u001b[38;5;28;43mself\u001b[39;49m\u001b[38;5;241;43m.\u001b[39;49m\u001b[43my\u001b[49m)\n",
      "\u001b[1;31mAttributeError\u001b[0m: 'beta' object has no attribute 'y'"
     ]
    }
   ],
   "source": [
    "i.plus()"
   ]
  },
  {
   "cell_type": "code",
   "execution_count": null,
   "id": "c3ce4fc1-907d-4890-86d9-2a26c4903738",
   "metadata": {},
   "outputs": [],
   "source": []
  },
  {
   "cell_type": "code",
   "execution_count": null,
   "id": "b7fc63d7-7b06-4eb4-8074-9edd48caee1a",
   "metadata": {},
   "outputs": [],
   "source": []
  }
 ],
 "metadata": {
  "kernelspec": {
   "display_name": "Python 3 (ipykernel)",
   "language": "python",
   "name": "python3"
  },
  "language_info": {
   "codemirror_mode": {
    "name": "ipython",
    "version": 3
   },
   "file_extension": ".py",
   "mimetype": "text/x-python",
   "name": "python",
   "nbconvert_exporter": "python",
   "pygments_lexer": "ipython3",
   "version": "3.11.4"
  }
 },
 "nbformat": 4,
 "nbformat_minor": 5
}
