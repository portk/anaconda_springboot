{
 "cells": [
  {
   "cell_type": "code",
   "execution_count": 3,
   "id": "2f523f0d-f1c6-4a82-899a-4248f1a2ffba",
   "metadata": {},
   "outputs": [],
   "source": [
    "import pandas as pd\n",
    "import statsmodels.formula.api as sm\n",
    "import matplotlib.pyplot as plt"
   ]
  },
  {
   "cell_type": "code",
   "execution_count": 8,
   "id": "d973d1ed-a09b-4ef8-ae0c-0fdf29718db9",
   "metadata": {},
   "outputs": [],
   "source": [
    "mydata = pd.read_csv('C:/Users/user/Desktop/python_total/data_regression.csv')"
   ]
  },
  {
   "cell_type": "code",
   "execution_count": 10,
   "id": "c151b5bd-956c-48b9-a2aa-f89c9b61138b",
   "metadata": {},
   "outputs": [
    {
     "name": "stdout",
     "output_type": "stream",
     "text": [
      "         TM  CA_TOT  SS_DAY\n",
      "0  20150101     3.4     7.8\n",
      "1  20150102     3.1     7.1\n",
      "2  20150103     3.7     5.8\n",
      "3  20150104     3.1     6.2\n",
      "4  20150105     6.5     5.1\n"
     ]
    }
   ],
   "source": [
    "print(mydata.head())"
   ]
  },
  {
   "cell_type": "code",
   "execution_count": 14,
   "id": "8c709208-6070-43b2-ba24-281b068e7724",
   "metadata": {},
   "outputs": [
    {
     "data": {
      "text/html": [
       "<div>\n",
       "<style scoped>\n",
       "    .dataframe tbody tr th:only-of-type {\n",
       "        vertical-align: middle;\n",
       "    }\n",
       "\n",
       "    .dataframe tbody tr th {\n",
       "        vertical-align: top;\n",
       "    }\n",
       "\n",
       "    .dataframe thead th {\n",
       "        text-align: right;\n",
       "    }\n",
       "</style>\n",
       "<table border=\"1\" class=\"dataframe\">\n",
       "  <thead>\n",
       "    <tr style=\"text-align: right;\">\n",
       "      <th></th>\n",
       "      <th>TM</th>\n",
       "      <th>CA_TOT</th>\n",
       "      <th>SS_DAY</th>\n",
       "    </tr>\n",
       "  </thead>\n",
       "  <tbody>\n",
       "    <tr>\n",
       "      <th>139</th>\n",
       "      <td>20150520</td>\n",
       "      <td>0.5</td>\n",
       "      <td>-9.0</td>\n",
       "    </tr>\n",
       "  </tbody>\n",
       "</table>\n",
       "</div>"
      ],
      "text/plain": [
       "           TM  CA_TOT  SS_DAY\n",
       "139  20150520     0.5    -9.0"
      ]
     },
     "execution_count": 14,
     "metadata": {},
     "output_type": "execute_result"
    }
   ],
   "source": [
    "mydata.loc[mydata['SS_DAY'] == -9]"
   ]
  },
  {
   "cell_type": "code",
   "execution_count": 15,
   "id": "486f9dea-24d6-4458-ab48-e2f80f612d13",
   "metadata": {},
   "outputs": [
    {
     "data": {
      "text/html": [
       "<div>\n",
       "<style scoped>\n",
       "    .dataframe tbody tr th:only-of-type {\n",
       "        vertical-align: middle;\n",
       "    }\n",
       "\n",
       "    .dataframe tbody tr th {\n",
       "        vertical-align: top;\n",
       "    }\n",
       "\n",
       "    .dataframe thead th {\n",
       "        text-align: right;\n",
       "    }\n",
       "</style>\n",
       "<table border=\"1\" class=\"dataframe\">\n",
       "  <thead>\n",
       "    <tr style=\"text-align: right;\">\n",
       "      <th></th>\n",
       "      <th>TM</th>\n",
       "      <th>CA_TOT</th>\n",
       "      <th>SS_DAY</th>\n",
       "    </tr>\n",
       "  </thead>\n",
       "  <tbody>\n",
       "    <tr>\n",
       "      <th>64</th>\n",
       "      <td>20150306</td>\n",
       "      <td>0.5</td>\n",
       "      <td>10.0</td>\n",
       "    </tr>\n",
       "    <tr>\n",
       "      <th>100</th>\n",
       "      <td>20150411</td>\n",
       "      <td>0.5</td>\n",
       "      <td>11.4</td>\n",
       "    </tr>\n",
       "  </tbody>\n",
       "</table>\n",
       "</div>"
      ],
      "text/plain": [
       "           TM  CA_TOT  SS_DAY\n",
       "64   20150306     0.5    10.0\n",
       "100  20150411     0.5    11.4"
      ]
     },
     "execution_count": 15,
     "metadata": {},
     "output_type": "execute_result"
    }
   ],
   "source": [
    "mydata.loc[(mydata['SS_DAY'] != -9) & (mydata['CA_TOT'] == 0.5)]"
   ]
  },
  {
   "cell_type": "code",
   "execution_count": 16,
   "id": "04e4f939-84e3-4ef6-93ce-5e2ca617c52c",
   "metadata": {},
   "outputs": [],
   "source": [
    "mydata.loc[mydata['SS_DAY'] == -9, 'SS_DAY'] = 10.7"
   ]
  },
  {
   "cell_type": "code",
   "execution_count": 18,
   "id": "1562f3d1-8d70-4eb3-8e73-7378d63d7dad",
   "metadata": {},
   "outputs": [],
   "source": [
    "result = sm.ols(formula = 'SS_DAY ~ CA_TOT',data=mydata).fit()"
   ]
  },
  {
   "cell_type": "code",
   "execution_count": 21,
   "id": "72f360ed-6fa4-4938-b7be-5604e2b15791",
   "metadata": {},
   "outputs": [
    {
     "name": "stdout",
     "output_type": "stream",
     "text": [
      "                            OLS Regression Results                            \n",
      "==============================================================================\n",
      "Dep. Variable:                 SS_DAY   R-squared:                       0.674\n",
      "Model:                            OLS   Adj. R-squared:                  0.673\n",
      "Method:                 Least Squares   F-statistic:                     749.0\n",
      "Date:                Mon, 06 Nov 2023   Prob (F-statistic):           2.88e-90\n",
      "Time:                        17:28:52   Log-Likelihood:                -827.45\n",
      "No. Observations:                 365   AIC:                             1659.\n",
      "Df Residuals:                     363   BIC:                             1667.\n",
      "Df Model:                           1                                         \n",
      "Covariance Type:            nonrobust                                         \n",
      "==============================================================================\n",
      "                 coef    std err          t      P>|t|      [0.025      0.975]\n",
      "------------------------------------------------------------------------------\n",
      "Intercept     12.2217      0.238     51.347      0.000      11.754      12.690\n",
      "CA_TOT        -1.0953      0.040    -27.369      0.000      -1.174      -1.017\n",
      "==============================================================================\n",
      "Omnibus:                       16.488   Durbin-Watson:                   1.191\n",
      "Prob(Omnibus):                  0.000   Jarque-Bera (JB):               16.529\n",
      "Skew:                           0.482   Prob(JB):                     0.000258\n",
      "Kurtosis:                       2.605   Cond. No.                         11.8\n",
      "==============================================================================\n",
      "\n",
      "Notes:\n",
      "[1] Standard Errors assume that the covariance matrix of the errors is correctly specified.\n"
     ]
    }
   ],
   "source": [
    "print(result.summary())"
   ]
  }
 ],
 "metadata": {
  "kernelspec": {
   "display_name": "Python 3 (ipykernel)",
   "language": "python",
   "name": "python3"
  },
  "language_info": {
   "codemirror_mode": {
    "name": "ipython",
    "version": 3
   },
   "file_extension": ".py",
   "mimetype": "text/x-python",
   "name": "python",
   "nbconvert_exporter": "python",
   "pygments_lexer": "ipython3",
   "version": "3.11.4"
  }
 },
 "nbformat": 4,
 "nbformat_minor": 5
}
