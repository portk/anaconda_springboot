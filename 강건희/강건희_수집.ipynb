{
 "cells": [
  {
   "cell_type": "code",
   "execution_count": 259,
   "id": "b1cce6a4-a2a9-4526-9181-ba905cb1e485",
   "metadata": {},
   "outputs": [],
   "source": [
    "import numpy as np\n",
    "import pandas as pd\n",
    "from urllib.request import urlopen\n",
    "from bs4 import BeautifulSoup as soup\n",
    "from collections import Counter"
   ]
  },
  {
   "cell_type": "code",
   "execution_count": 260,
   "id": "3abc7f36-47db-4d19-a84b-3f71589f77c8",
   "metadata": {},
   "outputs": [],
   "source": [
    "df=pd.DataFrame(columns=['Filed','Date','Title','Context'])\n",
    "base2 = 'https://www.etnews.com'"
   ]
  },
  {
   "cell_type": "code",
   "execution_count": 261,
   "id": "a9dc457a-4e1a-4631-a49f-0ef8a0b2d6d6",
   "metadata": {},
   "outputs": [
    {
     "name": "stdout",
     "output_type": "stream",
     "text": [
      "과학분야 진행중...\n",
      "링크를 줍는 중...\n",
      "링크에서 기사를 읽는 중...\n",
      "에러난 링크 재시도중...\n",
      "중복데이터를 제거하는 중...\n",
      "에너지분야 진행중...\n",
      "링크를 줍는 중...\n",
      "링크에서 기사를 읽는 중...\n",
      "에러난 링크 재시도중...\n",
      "중복데이터를 제거하는 중...\n"
     ]
    }
   ],
   "source": [
    "#target url : 'https://www.etnews.com/news/section/html?id1=20&page='\n",
    "#과학분야 : https://www.etnews.com/news/section.html?id1=20&id2=020&page=\n",
    "#에너지분야 : \n",
    "for burl in ['https://www.etnews.com/news/section.html?id1=20&id2=020&page=', \\\n",
    "             'https://www.etnews.com/news/section.html?id1=20&id2=065&page=']:\n",
    "    if 'id2=020' in burl:\n",
    "        filed='Science'\n",
    "        print('과학분야 진행중...')\n",
    "    elif 'id2=065' in burl:\n",
    "        filed='Energy'\n",
    "        print('에너지분야 진행중...')\n",
    "    page = 10000\n",
    "    url = burl + str(page+1)\n",
    "    html = urlopen(url)\n",
    "    bs = soup(html.read(),'html.parser')\n",
    "    last_page= bs.find('a',{'href':\"javascript:;\"}).text\n",
    "    links=[]\n",
    "    print('링크를 줍는 중...')\n",
    "    for page in range(int(last_page)):\n",
    "        url = burl + str(page)\n",
    "        html = urlopen(url)\n",
    "        bs = soup(html.read(),'html.parser')\n",
    "        atc_list = bs.select('p > a')\n",
    "        for i in range(len(artc_list)):\n",
    "            if 'https' not in atc_list[i].attrs['href']:\n",
    "                if atc_list[i].attrs['href'] not in links:\n",
    "                    links.append(atc_list[i].attrs['href'])\n",
    "    print('링크에서 기사를 읽는 중...')\n",
    "    error_links = []\n",
    "    for link in links:\n",
    "        try:\n",
    "            url2 = base2 + link\n",
    "            html2 = urlopen(url2)\n",
    "            bs2 = soup(html2.read(),'html.parser')\n",
    "            date = bs2.find_all('time')[0].text[6:16]\n",
    "            title = bs2.find('h2').text\n",
    "            context = bs2.find_all('p')[0].get_text().replace(\"\\n\",\"\")\n",
    "            tmp_df = pd.DataFrame([[filed,date,title,context]],columns=df.columns)\n",
    "            df = pd.concat([df,tmp_df], ignore_index=True)\n",
    "        except:\n",
    "            error_links.append(link)\n",
    "    print('에러난 링크 재시도중...')\n",
    "    for link in error_links:\n",
    "        try:\n",
    "            url2 = base2 + link\n",
    "            html2 = urlopen(url2)\n",
    "            bs2 = soup(html2.read(),'html.parser')\n",
    "            date = bs2.find_all('time')[0].text[6:16]\n",
    "            title = bs2.find('h2').text\n",
    "            context = bs2.find_all('p')[0].get_text().replace(\"\\n\",\"\")\n",
    "            tmp_df = pd.DataFrame([[filed,date,title,context]],columns=df.columns)\n",
    "            df = pd.concat([df,tmp_df], ignore_index=True)\n",
    "        except:\n",
    "            print('로드실패 링크: ',link)\n",
    "                \n",
    "    print('중복데이터를 제거하는 중...')\n",
    "    df = df.loc[~df.duplicated()]"
   ]
  },
  {
   "cell_type": "code",
   "execution_count": 258,
   "id": "e238fa43-8589-4091-832b-98028bd90bd8",
   "metadata": {},
   "outputs": [
    {
     "data": {
      "text/plain": [
       "0"
      ]
     },
     "execution_count": 258,
     "metadata": {},
     "output_type": "execute_result"
    }
   ],
   "source": [
    "df.duplicated().sum()"
   ]
  },
  {
   "cell_type": "code",
   "execution_count": 256,
   "id": "b0774b60-8617-44e6-884a-61c14c9f4b86",
   "metadata": {
    "scrolled": true
   },
   "outputs": [
    {
     "data": {
      "text/plain": [
       "(1514, 4)"
      ]
     },
     "execution_count": 256,
     "metadata": {},
     "output_type": "execute_result"
    }
   ],
   "source": [
    "df.shape"
   ]
  },
  {
   "cell_type": "code",
   "execution_count": 255,
   "id": "403972f0-c66b-4d81-bbca-d2e9b62e21c3",
   "metadata": {},
   "outputs": [],
   "source": [
    "df.to_csv(\"etnews.csv\")"
   ]
  },
  {
   "cell_type": "code",
   "execution_count": null,
   "id": "37d1614d-3563-4458-90c5-6148ef7be0d0",
   "metadata": {},
   "outputs": [],
   "source": []
  }
 ],
 "metadata": {
  "kernelspec": {
   "display_name": "Python 3 (ipykernel)",
   "language": "python",
   "name": "python3"
  },
  "language_info": {
   "codemirror_mode": {
    "name": "ipython",
    "version": 3
   },
   "file_extension": ".py",
   "mimetype": "text/x-python",
   "name": "python",
   "nbconvert_exporter": "python",
   "pygments_lexer": "ipython3",
   "version": "3.11.4"
  }
 },
 "nbformat": 4,
 "nbformat_minor": 5
}
